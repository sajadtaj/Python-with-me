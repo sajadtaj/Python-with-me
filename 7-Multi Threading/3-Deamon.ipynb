{
 "cells": [
  {
   "cell_type": "markdown",
   "metadata": {},
   "source": [
    "## Daemon\n",
    "\n",
    " این نکته یاد داده شده در فابل پایتون کار میکند نه ژوپیتر"
   ]
  },
  {
   "cell_type": "markdown",
   "metadata": {},
   "source": [
    "این ویزگی مقادیر بولین میگرد و مشخص میکند.\n",
    "ایا سیستم حق دارد برنامه را قبل از تمام شدن ترد قطع کند یا نه."
   ]
  },
  {
   "cell_type": "markdown",
   "metadata": {},
   "source": [
    "## example"
   ]
  },
  {
   "cell_type": "code",
   "execution_count": 14,
   "metadata": {},
   "outputs": [],
   "source": [
    "from time import sleep,perf_counter\n",
    "from threading import Thread\n",
    "import sys\n",
    "\n",
    "def show(name):\n",
    "    print(f'starting {name} -->')\n",
    "    sleep(3)\n",
    "    print(f'finishing {name} --|')\n",
    "\n"
   ]
  },
  {
   "cell_type": "code",
   "execution_count": 18,
   "metadata": {},
   "outputs": [
    {
     "name": "stdout",
     "output_type": "stream",
     "text": [
      "starting one -->\n",
      "starting tow -->\n",
      "time : 0.003765100998862181\n"
     ]
    },
    {
     "data": {
      "text/plain": [
       "<function sys.exit(status=None, /)>"
      ]
     },
     "execution_count": 18,
     "metadata": {},
     "output_type": "execute_result"
    },
    {
     "name": "stdout",
     "output_type": "stream",
     "text": [
      "finishing one --|\n",
      "finishing tow --|\n"
     ]
    }
   ],
   "source": [
    "t1 = Thread(target=show,args=('one',))\n",
    "t2 = Thread(target=show,args=('tow',))\n",
    "\n",
    "start = perf_counter()\n",
    "\n",
    "t1.start()\n",
    "t2.start()\n",
    "\n",
    "# without join\n",
    "\n",
    "end = perf_counter()\n",
    "print('time :',end - start)\n",
    "\n",
    "sys.exit\n"
   ]
  },
  {
   "cell_type": "markdown",
   "metadata": {},
   "source": [
    "## نکته\n",
    "برنامه با اجرا شدن خط به خط \n",
    " وقتی به دستور آخر می رسد که قطع کردن برنامه است چون یک ترد فعال دارد\n",
    " قطع نمی گردد و منظر است ترد تمام شود"
   ]
  },
  {
   "cell_type": "markdown",
   "metadata": {},
   "source": [
    "## راه حل \n",
    "در چنین مواقعی اگر بخواهیم ترد حتی اگر هنوز تمام نشده بود برنامه بتواند آنرا قطع کند تز ویژگی زیر استفاده میکنیم\n",
    "\n",
    "+ daemon"
   ]
  },
  {
   "cell_type": "code",
   "execution_count": 17,
   "metadata": {},
   "outputs": [
    {
     "name": "stdout",
     "output_type": "stream",
     "text": [
      "starting one -->\n",
      "starting tow -->time : 0.0026848880006582476\n",
      "\n"
     ]
    },
    {
     "data": {
      "text/plain": [
       "<function sys.exit(status=None, /)>"
      ]
     },
     "execution_count": 17,
     "metadata": {},
     "output_type": "execute_result"
    },
    {
     "name": "stdout",
     "output_type": "stream",
     "text": [
      "finishing one --|\n",
      "finishing tow --|\n"
     ]
    }
   ],
   "source": [
    "t1 = Thread(target=show,args=('one',),daemon=True)\n",
    "t2 = Thread(target=show,args=('tow',),daemon=True)\n",
    "\n",
    "start = perf_counter()\n",
    "\n",
    "t1.start()\n",
    "t2.start()\n",
    "\n",
    "# without join\n",
    "\n",
    "end = perf_counter()\n",
    "print('time :',end - start)\n",
    "\n",
    "sys.exit"
   ]
  },
  {
   "cell_type": "markdown",
   "metadata": {},
   "source": [
    "اگر از ویزگی \n",
    "Join\n",
    "استفاده کنیم\n",
    "ویزگی\n",
    "daemon\n",
    "نادیده گرفته می شود"
   ]
  },
  {
   "cell_type": "code",
   "execution_count": null,
   "metadata": {},
   "outputs": [],
   "source": []
  }
 ],
 "metadata": {
  "interpreter": {
   "hash": "916dbcbb3f70747c44a77c7bcd40155683ae19c65e1c03b4aa3499c5328201f1"
  },
  "kernelspec": {
   "display_name": "Python 3.10.4 64-bit",
   "language": "python",
   "name": "python3"
  },
  "language_info": {
   "codemirror_mode": {
    "name": "ipython",
    "version": 3
   },
   "file_extension": ".py",
   "mimetype": "text/x-python",
   "name": "python",
   "nbconvert_exporter": "python",
   "pygments_lexer": "ipython3",
   "version": "3.10.4"
  },
  "orig_nbformat": 4
 },
 "nbformat": 4,
 "nbformat_minor": 2
}
