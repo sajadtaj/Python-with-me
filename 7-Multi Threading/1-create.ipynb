{
 "cells": [
  {
   "cell_type": "markdown",
   "metadata": {},
   "source": [
    "### create one function for example"
   ]
  },
  {
   "cell_type": "code",
   "execution_count": 6,
   "metadata": {},
   "outputs": [],
   "source": [
    "from time import sleep,perf_counter\n",
    "\n",
    "def show(name):\n",
    "    print(f'starting {name} -->')\n",
    "    sleep(3)\n",
    "    print(f'finishing {name} --|')"
   ]
  },
  {
   "cell_type": "markdown",
   "metadata": {},
   "source": [
    "# Run above function"
   ]
  },
  {
   "cell_type": "code",
   "execution_count": 5,
   "metadata": {},
   "outputs": [
    {
     "name": "stdout",
     "output_type": "stream",
     "text": [
      "starting one -->\n",
      "finishing one --|\n",
      "starting tow -->\n",
      "finishing tow --|\n",
      "CPU times: user 4 ms, sys: 0 ns, total: 4 ms\n",
      "Wall time: 6 s\n"
     ]
    }
   ],
   "source": [
    "%%time\n",
    "show('one')\n",
    "show('tow')"
   ]
  },
  {
   "cell_type": "code",
   "execution_count": 14,
   "metadata": {},
   "outputs": [
    {
     "name": "stdout",
     "output_type": "stream",
     "text": [
      "starting three -->\n",
      "finishing three --|\n",
      "starting four -->\n",
      "finishing four --|\n",
      "time : 6.00393917800011\n"
     ]
    }
   ],
   "source": [
    "start = perf_counter()\n",
    "\n",
    "show('three')\n",
    "show('four')\n",
    "\n",
    "end = perf_counter()\n",
    "print('time :',end - start)\n"
   ]
  },
  {
   "cell_type": "markdown",
   "metadata": {},
   "source": [
    "### now use multi treading"
   ]
  },
  {
   "cell_type": "markdown",
   "metadata": {},
   "source": [
    "## create Threade"
   ]
  },
  {
   "cell_type": "code",
   "execution_count": 21,
   "metadata": {},
   "outputs": [],
   "source": [
    "from threading import Thread\n",
    "\n",
    "t1 = Thread(target=show,args=('one',))\n",
    "t2 = Thread(target=show,args=('tow',))\n",
    "\n",
    "# target = just name of function\n",
    "# args = args of function"
   ]
  },
  {
   "cell_type": "markdown",
   "metadata": {},
   "source": [
    "### حالت اول"
   ]
  },
  {
   "cell_type": "code",
   "execution_count": 17,
   "metadata": {},
   "outputs": [
    {
     "name": "stdout",
     "output_type": "stream",
     "text": [
      "starting one -->\n",
      "starting tow -->time : 0.0015903889998298837\n",
      "\n",
      "finishing one --|\n",
      "finishing tow --|\n"
     ]
    }
   ],
   "source": [
    "start = perf_counter()\n",
    "\n",
    "t1.start()\n",
    "t2.start()\n",
    "\n",
    "end = perf_counter()\n",
    "print('time :',end - start)"
   ]
  },
  {
   "cell_type": "markdown",
   "metadata": {},
   "source": [
    "### مورد حالت اول\n",
    "+ همان گونه که می بینید قبل از اینکه ترد ها  تمام شوند خط کد بعدی که زمان را  نشان میدهد چاپ شده\n",
    "+ اگر بخواهیم اوب ترد ها تمام شوند بعد خط های بعدی کد اجرا شوند از حالت دوم استفاده میکنیم."
   ]
  },
  {
   "cell_type": "markdown",
   "metadata": {},
   "source": [
    "#### نکته \n",
    "هر ترد فقط یکبار اجرا میگردد\n",
    "لذا باید بکیار دیگر کد ساخت ترد را اجرا کنیم"
   ]
  },
  {
   "cell_type": "markdown",
   "metadata": {},
   "source": [
    "## حالت دوم"
   ]
  },
  {
   "cell_type": "code",
   "execution_count": 22,
   "metadata": {},
   "outputs": [
    {
     "name": "stdout",
     "output_type": "stream",
     "text": [
      "starting one -->\n",
      "starting tow -->\n",
      "finishing one --|finishing tow --|\n",
      "\n",
      "time : 3.006816514000093\n"
     ]
    }
   ],
   "source": [
    "start = perf_counter()\n",
    "\n",
    "t1.start()\n",
    "t2.start()\n",
    "\n",
    "t1.join()\n",
    "t2.join()\n",
    "\n",
    "end = perf_counter()\n",
    "print('time :',end - start)"
   ]
  },
  {
   "cell_type": "code",
   "execution_count": null,
   "metadata": {},
   "outputs": [],
   "source": []
  }
 ],
 "metadata": {
  "interpreter": {
   "hash": "916dbcbb3f70747c44a77c7bcd40155683ae19c65e1c03b4aa3499c5328201f1"
  },
  "kernelspec": {
   "display_name": "Python 3.10.4 64-bit",
   "language": "python",
   "name": "python3"
  },
  "language_info": {
   "codemirror_mode": {
    "name": "ipython",
    "version": 3
   },
   "file_extension": ".py",
   "mimetype": "text/x-python",
   "name": "python",
   "nbconvert_exporter": "python",
   "pygments_lexer": "ipython3",
   "version": "3.10.4"
  },
  "orig_nbformat": 4
 },
 "nbformat": 4,
 "nbformat_minor": 2
}
