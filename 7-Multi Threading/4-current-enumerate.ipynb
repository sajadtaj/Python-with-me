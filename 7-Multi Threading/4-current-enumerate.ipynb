{
 "cells": [
  {
   "cell_type": "markdown",
   "metadata": {},
   "source": [
    "## Tow methods of threading\n",
    "+ current-thread\n",
    "+ enumerate"
   ]
  },
  {
   "cell_type": "markdown",
   "metadata": {},
   "source": [
    "__current-thread__:\n",
    "+ مشخصات ترد فعلی را به ما برمیگردتند\n",
    "\n",
    "__enumerate__ :\n",
    "+ ترد های که در حال حاضر فعال هستن را برای ما میآورد\n"
   ]
  },
  {
   "cell_type": "markdown",
   "metadata": {},
   "source": [
    "## current-thread"
   ]
  },
  {
   "cell_type": "code",
   "execution_count": 14,
   "metadata": {},
   "outputs": [],
   "source": [
    "from time import sleep,perf_counter\n",
    "from threading import Thread,current_thread,enumerate\n",
    "import sys\n",
    "\n",
    "def show(name):\n",
    "    print(f'starting {name} -->')\n",
    "    print(current_thread())  # <----------------------------------------------current thread info\n",
    "    sleep(3)\n",
    "    print(f'finishing {name} --|')"
   ]
  },
  {
   "cell_type": "code",
   "execution_count": 6,
   "metadata": {},
   "outputs": [],
   "source": [
    "11# name : نام ترد را میتوانیم به دلخواه انتخاب کنیم------->بهتر است انرا تغییر ندهیم\n",
    "t1 = Thread(target=show,args=('one',),name='One-show')\n",
    "t2 = Thread(target=show,args=('tow',),name='Two-show')"
   ]
  },
  {
   "cell_type": "code",
   "execution_count": 7,
   "metadata": {},
   "outputs": [
    {
     "name": "stdout",
     "output_type": "stream",
     "text": [
      "starting one -->\n",
      "<Thread(One-show, started 140373724739136)>\n",
      "starting tow -->\n",
      "<Thread(Two-show, started 140373733131840)>\n",
      "finishing one --|finishing tow --|\n",
      "\n"
     ]
    }
   ],
   "source": [
    "t1.start()\n",
    "t2.start()"
   ]
  },
  {
   "cell_type": "markdown",
   "metadata": {},
   "source": [
    "## Enumarate"
   ]
  },
  {
   "cell_type": "code",
   "execution_count": 15,
   "metadata": {},
   "outputs": [],
   "source": [
    "def show(name):\n",
    "    print(f'starting {name} -->')\n",
    "    print(enumerate())  # <----------------------------- Enumerate\n",
    "    sleep(3)\n",
    "    print(f'finishing {name} --|')\n"
   ]
  },
  {
   "cell_type": "code",
   "execution_count": 16,
   "metadata": {},
   "outputs": [],
   "source": [
    "# name : نام ترد را میتوانیم به دلخواه انتخاب کنیم\n",
    "t1 = Thread(target=show,args=('one',),name='One-show')\n",
    "t2 = Thread(target=show,args=('tow',),name='Two-show')"
   ]
  },
  {
   "cell_type": "code",
   "execution_count": 17,
   "metadata": {},
   "outputs": [
    {
     "name": "stdout",
     "output_type": "stream",
     "text": [
      "starting one -->\n",
      "[<_MainThread(MainThread, started 140374253543424)>, <Thread(IOPub, started daemon 140374137886272)>, <Heartbeat(Heartbeat, started daemon 140374129493568)>, <Thread(Thread-2 (_watch_pipe_fd), started daemon 140374104315456)>, <Thread(Thread-3 (_watch_pipe_fd), started daemon 140373758309952)>, <ControlThread(Control, started daemon 140373749917248)>, <HistorySavingThread(IPythonHistorySavingThread, started 140373741524544)>, <Thread(One-show, started 140373724739136)>]\n",
      "starting tow -->\n",
      "[<_MainThread(MainThread, started 140374253543424)>, <Thread(IOPub, started daemon 140374137886272)>, <Heartbeat(Heartbeat, started daemon 140374129493568)>, <Thread(Thread-2 (_watch_pipe_fd), started daemon 140374104315456)>, <Thread(Thread-3 (_watch_pipe_fd), started daemon 140373758309952)>, <ControlThread(Control, started daemon 140373749917248)>, <HistorySavingThread(IPythonHistorySavingThread, started 140373741524544)>, <Thread(One-show, started 140373724739136)>, <Thread(Two-show, started 140373733131840)>]\n",
      "finishing one --|\n",
      "finishing tow --|\n"
     ]
    }
   ],
   "source": [
    "t1.start()\n",
    "t2.start()\n"
   ]
  },
  {
   "cell_type": "code",
   "execution_count": null,
   "metadata": {},
   "outputs": [],
   "source": []
  }
 ],
 "metadata": {
  "interpreter": {
   "hash": "916dbcbb3f70747c44a77c7bcd40155683ae19c65e1c03b4aa3499c5328201f1"
  },
  "kernelspec": {
   "display_name": "Python 3.10.4 64-bit",
   "language": "python",
   "name": "python3"
  },
  "language_info": {
   "codemirror_mode": {
    "name": "ipython",
    "version": 3
   },
   "file_extension": ".py",
   "mimetype": "text/x-python",
   "name": "python",
   "nbconvert_exporter": "python",
   "pygments_lexer": "ipython3",
   "version": "3.10.4"
  },
  "orig_nbformat": 4
 },
 "nbformat": 4,
 "nbformat_minor": 2
}
