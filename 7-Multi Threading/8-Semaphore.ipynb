{
 "cells": [
  {
   "cell_type": "code",
   "execution_count": 2,
   "metadata": {},
   "outputs": [],
   "source": [
    "from threading import Thread,Semaphore,BoundedSemaphore,current_thread\n",
    "from time import sleep"
   ]
  },
  {
   "cell_type": "markdown",
   "metadata": {},
   "source": [
    "## Semaphore\n",
    "\n",
    "همانند لاک می باشد.\n",
    "\n",
    "وقتی داریم از یک منبع مشترک استفاه میکنیم \n",
    "\n",
    "اگر بخواهیم ترد ها هر بار به تعداد مشخص اجرا شوند از این متد استفاده میکنیم.\n",
    "\n",
    "در پارامتر ولیو تعداد ترد های اجرای را مشخص میکنیم."
   ]
  },
  {
   "cell_type": "code",
   "execution_count": 12,
   "metadata": {},
   "outputs": [],
   "source": [
    "num = 0\n",
    "# value --> تعداد ترد های که همزمان اجرا شوند\n",
    "lock =Semaphore(value=2)\n",
    "\n",
    "def add():\n",
    "    global num\n",
    "    with lock:\n",
    "        print(current_thread().getName())\n",
    "        sleep(2)\n",
    "        num +=1"
   ]
  },
  {
   "cell_type": "code",
   "execution_count": 13,
   "metadata": {},
   "outputs": [
    {
     "name": "stderr",
     "output_type": "stream",
     "text": [
      "/tmp/ipykernel_4408/2875035552.py:8: DeprecationWarning: getName() is deprecated, get the name attribute instead\n",
      "  print(current_thread().getName())\n"
     ]
    },
    {
     "name": "stdout",
     "output_type": "stream",
     "text": [
      "Thread-16 (add)\n",
      "Thread-17 (add)\n",
      "Thread-18 (add)\n",
      "Thread-19 (add)\n",
      "Thread-20 (add)\n",
      "Thread-21 (add)\n",
      "6\n"
     ]
    }
   ],
   "source": [
    "\n",
    "t1 =Thread(target=add)\n",
    "t2 =Thread(target=add)\n",
    "t3 =Thread(target=add)\n",
    "t4 =Thread(target=add)\n",
    "t5 =Thread(target=add)\n",
    "t6 =Thread(target=add)\n",
    "\n",
    "t1.start()\n",
    "t2.start()\n",
    "t3.start()\n",
    "t4.start()\n",
    "t5.start()\n",
    "t6.start()\n",
    "\n",
    "t1.join()\n",
    "t2.join()\n",
    "t3.join()\n",
    "t4.join()\n",
    "t5.join()\n",
    "t6.join()\n",
    "\n",
    "\n",
    "print(num)"
   ]
  },
  {
   "cell_type": "code",
   "execution_count": 22,
   "metadata": {},
   "outputs": [
    {
     "name": "stderr",
     "output_type": "stream",
     "text": [
      "/tmp/ipykernel_4408/227623549.py:11: DeprecationWarning: getName() is deprecated, get the name attribute instead\n",
      "  print(name,current_thread().getName(),'\\n')\n"
     ]
    },
    {
     "name": "stdout",
     "output_type": "stream",
     "text": [
      "one ThreadPoolExecutor-13_0 \n",
      "\n",
      "tow ThreadPoolExecutor-13_0 \n",
      "\n",
      "three ThreadPoolExecutor-13_0 \n",
      "\n",
      "four ThreadPoolExecutor-13_0 \n",
      "\n",
      "five ThreadPoolExecutor-13_0 \n",
      "\n",
      "six ThreadPoolExecutor-13_0 \n",
      "\n",
      "seven ThreadPoolExecutor-13_0 \n",
      "\n",
      "7\n",
      "done ....!\n"
     ]
    }
   ],
   "source": [
    "from concurrent.futures import ThreadPoolExecutor\n",
    "\n",
    "\n",
    "num = 0\n",
    "# value --> تعداد ترد های که همزمان اجرا شوند\n",
    "lock =Semaphore(value=2)\n",
    "\n",
    "def add(name):\n",
    "    global num\n",
    "    with lock:\n",
    "        print(name,current_thread().getName(),'\\n')\n",
    "        sleep(5)\n",
    "        num +=1\n",
    "\n",
    "with ThreadPoolExecutor(max_workers=1) as executer:\n",
    "    name=('one','tow','three','four','five','six','seven')\n",
    "    executer.map(add,name)\n",
    "print(num)\n",
    "print('done ....!')"
   ]
  },
  {
   "cell_type": "markdown",
   "metadata": {},
   "source": [
    "## BoundedSemaphore"
   ]
  },
  {
   "cell_type": "markdown",
   "metadata": {},
   "source": [
    "مشابه  سمافور ا این تفاوت که اگر به دلیل اشتباه در کد زدن یا هردلیلی تعداد تردهای مجاز که باید هر دفعه اجرا شوند اگر بیشتر شد به مت  اخطار میدهد."
   ]
  },
  {
   "cell_type": "markdown",
   "metadata": {},
   "source": []
  }
 ],
 "metadata": {
  "interpreter": {
   "hash": "916dbcbb3f70747c44a77c7bcd40155683ae19c65e1c03b4aa3499c5328201f1"
  },
  "kernelspec": {
   "display_name": "Python 3.10.4 64-bit",
   "language": "python",
   "name": "python3"
  },
  "language_info": {
   "codemirror_mode": {
    "name": "ipython",
    "version": 3
   },
   "file_extension": ".py",
   "mimetype": "text/x-python",
   "name": "python",
   "nbconvert_exporter": "python",
   "pygments_lexer": "ipython3",
   "version": "3.10.4"
  },
  "orig_nbformat": 4
 },
 "nbformat": 4,
 "nbformat_minor": 2
}
