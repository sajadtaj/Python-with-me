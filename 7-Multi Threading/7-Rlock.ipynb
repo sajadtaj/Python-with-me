{
 "cells": [
  {
   "cell_type": "markdown",
   "metadata": {},
   "source": [
    "## Rlock\n",
    "مشابه لاک می باشد\n",
    " \n",
    " کاربرد زمانی که تابع های ما برگشتی باشند مثلا درون یک  تابع لاک هست یک تابع دیگر که لاک هست را صدا برنیم"
   ]
  },
  {
   "cell_type": "code",
   "execution_count": 1,
   "metadata": {},
   "outputs": [],
   "source": [
    "from threading import Thread,Lock,RLock"
   ]
  },
  {
   "cell_type": "code",
   "execution_count": 2,
   "metadata": {},
   "outputs": [],
   "source": [
    "num = 0  #share resource\n",
    "lock = Lock()  # یادت نره\n",
    "\n",
    "\n",
    "def add():\n",
    "    global num\n",
    "\n",
    "    with lock:\n",
    "        subtract()\n",
    "        for _ in range(100000):\n",
    "            num +=1\n",
    "\n",
    "def subtract():\n",
    "    global num\n",
    "\n",
    "    with lock:\n",
    "        for _ in range(100000):\n",
    "            num -=1"
   ]
  },
  {
   "cell_type": "code",
   "execution_count": 3,
   "metadata": {},
   "outputs": [
    {
     "ename": "KeyboardInterrupt",
     "evalue": "",
     "output_type": "error",
     "traceback": [
      "\u001b[0;31m---------------------------------------------------------------------------\u001b[0m",
      "\u001b[0;31mKeyboardInterrupt\u001b[0m                         Traceback (most recent call last)",
      "\u001b[1;32m/media/ubunto/TORBU-SD/Prefessional  Python/8-Multi Threading/7-Rlock.ipynb Cell 4'\u001b[0m in \u001b[0;36m<cell line: 4>\u001b[0;34m()\u001b[0m\n\u001b[1;32m      <a href='vscode-notebook-cell:/media/ubunto/TORBU-SD/Prefessional%20%20Python/8-Multi%20Threading/7-Rlock.ipynb#ch0000003?line=0'>1</a>\u001b[0m t1 \u001b[39m=\u001b[39m Thread(target\u001b[39m=\u001b[39madd)\n\u001b[1;32m      <a href='vscode-notebook-cell:/media/ubunto/TORBU-SD/Prefessional%20%20Python/8-Multi%20Threading/7-Rlock.ipynb#ch0000003?line=2'>3</a>\u001b[0m t1\u001b[39m.\u001b[39mstart()\n\u001b[0;32m----> <a href='vscode-notebook-cell:/media/ubunto/TORBU-SD/Prefessional%20%20Python/8-Multi%20Threading/7-Rlock.ipynb#ch0000003?line=3'>4</a>\u001b[0m t1\u001b[39m.\u001b[39;49mjoin()\n\u001b[1;32m      <a href='vscode-notebook-cell:/media/ubunto/TORBU-SD/Prefessional%20%20Python/8-Multi%20Threading/7-Rlock.ipynb#ch0000003?line=5'>6</a>\u001b[0m \u001b[39mprint\u001b[39m(num)\n\u001b[1;32m      <a href='vscode-notebook-cell:/media/ubunto/TORBU-SD/Prefessional%20%20Python/8-Multi%20Threading/7-Rlock.ipynb#ch0000003?line=6'>7</a>\u001b[0m \u001b[39mprint\u001b[39m(\u001b[39m'\u001b[39m\u001b[39mDone ...!\u001b[39m\u001b[39m'\u001b[39m)\n",
      "File \u001b[0;32m/usr/lib/python3.10/threading.py:1089\u001b[0m, in \u001b[0;36mThread.join\u001b[0;34m(self, timeout)\u001b[0m\n\u001b[1;32m   <a href='file:///usr/lib/python3.10/threading.py?line=1085'>1086</a>\u001b[0m     \u001b[39mraise\u001b[39;00m \u001b[39mRuntimeError\u001b[39;00m(\u001b[39m\"\u001b[39m\u001b[39mcannot join current thread\u001b[39m\u001b[39m\"\u001b[39m)\n\u001b[1;32m   <a href='file:///usr/lib/python3.10/threading.py?line=1087'>1088</a>\u001b[0m \u001b[39mif\u001b[39;00m timeout \u001b[39mis\u001b[39;00m \u001b[39mNone\u001b[39;00m:\n\u001b[0;32m-> <a href='file:///usr/lib/python3.10/threading.py?line=1088'>1089</a>\u001b[0m     \u001b[39mself\u001b[39;49m\u001b[39m.\u001b[39;49m_wait_for_tstate_lock()\n\u001b[1;32m   <a href='file:///usr/lib/python3.10/threading.py?line=1089'>1090</a>\u001b[0m \u001b[39melse\u001b[39;00m:\n\u001b[1;32m   <a href='file:///usr/lib/python3.10/threading.py?line=1090'>1091</a>\u001b[0m     \u001b[39m# the behavior of a negative timeout isn't documented, but\u001b[39;00m\n\u001b[1;32m   <a href='file:///usr/lib/python3.10/threading.py?line=1091'>1092</a>\u001b[0m     \u001b[39m# historically .join(timeout=x) for x<0 has acted as if timeout=0\u001b[39;00m\n\u001b[1;32m   <a href='file:///usr/lib/python3.10/threading.py?line=1092'>1093</a>\u001b[0m     \u001b[39mself\u001b[39m\u001b[39m.\u001b[39m_wait_for_tstate_lock(timeout\u001b[39m=\u001b[39m\u001b[39mmax\u001b[39m(timeout, \u001b[39m0\u001b[39m))\n",
      "File \u001b[0;32m/usr/lib/python3.10/threading.py:1109\u001b[0m, in \u001b[0;36mThread._wait_for_tstate_lock\u001b[0;34m(self, block, timeout)\u001b[0m\n\u001b[1;32m   <a href='file:///usr/lib/python3.10/threading.py?line=1105'>1106</a>\u001b[0m     \u001b[39mreturn\u001b[39;00m\n\u001b[1;32m   <a href='file:///usr/lib/python3.10/threading.py?line=1107'>1108</a>\u001b[0m \u001b[39mtry\u001b[39;00m:\n\u001b[0;32m-> <a href='file:///usr/lib/python3.10/threading.py?line=1108'>1109</a>\u001b[0m     \u001b[39mif\u001b[39;00m lock\u001b[39m.\u001b[39;49macquire(block, timeout):\n\u001b[1;32m   <a href='file:///usr/lib/python3.10/threading.py?line=1109'>1110</a>\u001b[0m         lock\u001b[39m.\u001b[39mrelease()\n\u001b[1;32m   <a href='file:///usr/lib/python3.10/threading.py?line=1110'>1111</a>\u001b[0m         \u001b[39mself\u001b[39m\u001b[39m.\u001b[39m_stop()\n",
      "\u001b[0;31mKeyboardInterrupt\u001b[0m: "
     ]
    }
   ],
   "source": [
    "t1 = Thread(target=add)\n",
    "\n",
    "t1.start()\n",
    "t1.join()\n",
    "\n",
    "print(num)\n",
    "print('Done ...!')"
   ]
  },
  {
   "cell_type": "markdown",
   "metadata": {},
   "source": [
    "# RLock \n",
    "قطعه کد بالا دچار لاک شده است برای رهایی از چنین موقعیت های از آرلاک استفاده میکنیم."
   ]
  },
  {
   "cell_type": "code",
   "execution_count": 8,
   "metadata": {},
   "outputs": [],
   "source": [
    "num = 0  #share resource\n",
    "Rlock = RLock()  # یادت نره\n",
    "\n",
    "def add_1():\n",
    "    global num\n",
    "\n",
    "    with Rlock:\n",
    "        subtract()\n",
    "        for _ in range(100000):\n",
    "            num +=1\n",
    "\n",
    "def subtract():\n",
    "    global num\n",
    "    with Rlock:\n",
    "        for _ in range(100000):\n",
    "            num -=1"
   ]
  },
  {
   "cell_type": "code",
   "execution_count": 11,
   "metadata": {},
   "outputs": [
    {
     "name": "stdout",
     "output_type": "stream",
     "text": [
      "0\n",
      "Done ...!\n"
     ]
    }
   ],
   "source": [
    "t1 = Thread(target=add_1)\n",
    "\n",
    "t1.start()\n",
    "t1.join()\n",
    "\n",
    "print(num)\n",
    "print('Done ...!')"
   ]
  },
  {
   "cell_type": "markdown",
   "metadata": {},
   "source": [
    "## Practice"
   ]
  },
  {
   "cell_type": "code",
   "execution_count": 18,
   "metadata": {},
   "outputs": [],
   "source": [
    "from threading import Thread,RLock\n",
    "from concurrent.futures import ThreadPoolExecutor\n",
    "from threading import current_thread\n",
    "from time import sleep\n"
   ]
  },
  {
   "cell_type": "code",
   "execution_count": 21,
   "metadata": {},
   "outputs": [],
   "source": [
    "Rlock = RLock()\n",
    "\n",
    "\n",
    "def father(name,age):\n",
    "    with Rlock:\n",
    "        print(f\"My name is {name} i have {age} years old and my score is \")\n",
    "        print(current_thread())\n",
    "    sleep(4)"
   ]
  },
  {
   "cell_type": "code",
   "execution_count": 22,
   "metadata": {},
   "outputs": [
    {
     "name": "stdout",
     "output_type": "stream",
     "text": [
      "My name is ali i have 12 years old and my score is \n",
      "<Thread(ThreadPoolExecutor-6_0, started 140155538093632)>\n",
      "My name is ahmad i have 14 years old and my score is \n",
      "<Thread(ThreadPoolExecutor-6_1, started 140155546486336)>\n",
      "My name is samad i have 15 years old and my score is \n",
      "<Thread(ThreadPoolExecutor-6_0, started 140155538093632)>\n",
      "My name is jamshid i have 11 years old and my score is \n",
      "<Thread(ThreadPoolExecutor-6_1, started 140155546486336)>\n",
      "My name is reza i have 23 years old and my score is \n",
      "<Thread(ThreadPoolExecutor-6_0, started 140155538093632)>\n",
      "My name is sara i have 47 years old and my score is \n",
      "<Thread(ThreadPoolExecutor-6_1, started 140155546486336)>\n",
      "My name is shahin i have 89 years old and my score is \n",
      "<Thread(ThreadPoolExecutor-6_0, started 140155538093632)>\n",
      "My name is nilofar i have 21 years old and my score is \n",
      "<Thread(ThreadPoolExecutor-6_1, started 140155546486336)>\n",
      "Done ...\n"
     ]
    }
   ],
   "source": [
    "\n",
    "\n",
    "\n",
    "with ThreadPoolExecutor(max_workers=2) as executer:\n",
    "    name = ('ali','ahmad','samad','jamshid','reza','sara','shahin','nilofar')\n",
    "    age = (12,14,15,11,23,47,89,21)\n",
    "    executer.map(father,name,age)              \n",
    "\n",
    "print('Done ...')"
   ]
  },
  {
   "cell_type": "code",
   "execution_count": null,
   "metadata": {},
   "outputs": [],
   "source": [
    "    "
   ]
  }
 ],
 "metadata": {
  "interpreter": {
   "hash": "916dbcbb3f70747c44a77c7bcd40155683ae19c65e1c03b4aa3499c5328201f1"
  },
  "kernelspec": {
   "display_name": "Python 3.10.4 64-bit",
   "language": "python",
   "name": "python3"
  },
  "language_info": {
   "codemirror_mode": {
    "name": "ipython",
    "version": 3
   },
   "file_extension": ".py",
   "mimetype": "text/x-python",
   "name": "python",
   "nbconvert_exporter": "python",
   "pygments_lexer": "ipython3",
   "version": "3.10.4"
  },
  "orig_nbformat": 4
 },
 "nbformat": 4,
 "nbformat_minor": 2
}
