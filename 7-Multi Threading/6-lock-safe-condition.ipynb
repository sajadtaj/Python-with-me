{
 "cells": [
  {
   "cell_type": "markdown",
   "metadata": {},
   "source": [
    "+ Race condition\n",
    "    + Thread safe : که حتما ترد ها به هم دیگر احترام بگذارند و تداخل در منابع یکدیگرابجاد نکنند\n",
    "        +  Lock\n",
    "            + Release/acquire\n",
    "            + with lock"
   ]
  },
  {
   "cell_type": "code",
   "execution_count": 1,
   "metadata": {},
   "outputs": [],
   "source": [
    "from time import sleep\n",
    "from threading import Thread"
   ]
  },
  {
   "cell_type": "code",
   "execution_count": 2,
   "metadata": {},
   "outputs": [],
   "source": [
    "num =0  #share resource\n",
    "\n",
    "def add():\n",
    "    global num\n",
    "    for _ in range(100000):\n",
    "        num +=1\n",
    "\n",
    "def subtract():\n",
    "    global num\n",
    "    for _ in range(100000):\n",
    "        num -=1"
   ]
  },
  {
   "cell_type": "code",
   "execution_count": 3,
   "metadata": {},
   "outputs": [],
   "source": [
    "t1 = Thread(target=add)\n",
    "t2 = Thread(target=subtract)"
   ]
  },
  {
   "cell_type": "code",
   "execution_count": 4,
   "metadata": {},
   "outputs": [
    {
     "name": "stdout",
     "output_type": "stream",
     "text": [
      "0\n",
      "Done ...!\n"
     ]
    }
   ],
   "source": [
    "t1.start()\n",
    "t2.start()\n",
    "\n",
    "t1.join()\n",
    "t2.join()\n",
    "\n",
    "print(num)\n",
    "print('Done ...!')"
   ]
  },
  {
   "cell_type": "markdown",
   "metadata": {},
   "source": [
    "## اخطار\n",
    "در قطعه کد بالا باید حتما جواب صفر باشد اما ممکن است در هر چند بار تکرار یکبار با عددی بغیر صفر مواجه شپیم \n",
    "\n",
    "لذا دیدن صفر به این معتی نیست که برنامه همیشه درست عمل میکند. \n",
    "\n",
    "چرا که ترد ها در حال کار بروی یک منبع مشترک هستند."
   ]
  },
  {
   "cell_type": "markdown",
   "metadata": {},
   "source": [
    "# Race conditional\n",
    "وقتی چند ترد در حال کار بروی یک منبع مشترک هستند ممکن است در کار هم تداخل ایجاد نمایند\n",
    "\n",
    "این مشکل رت میتوان به کمک ترد سیف حل نمود\n",
    "+ Threade Safe"
   ]
  },
  {
   "cell_type": "markdown",
   "metadata": {},
   "source": [
    "## Threade Safe \n",
    " در این حالت برنامه را قفل میکند تا زمانی که کار ترد مربوطه تمام نشده \n",
    " ترد بعدی حق ندارد تجرا گردد\n",
    " + lock = این روش کلا دو متد دارد\n",
    "    + acquire\n",
    "    + release\n"
   ]
  },
  {
   "cell_type": "code",
   "execution_count": 5,
   "metadata": {},
   "outputs": [],
   "source": [
    "from threading import Lock"
   ]
  },
  {
   "cell_type": "code",
   "execution_count": 6,
   "metadata": {},
   "outputs": [],
   "source": [
    "num =0  #share resource\n",
    "lock=Lock()  # یادت نره\n",
    "\n",
    "def add_1():\n",
    "    global num\n",
    "\n",
    "    lock.acquire()  # برنامه را قفل کرده است\n",
    "    for _ in range(100000):\n",
    "        num +=1\n",
    "    lock.release()  # برنامه را آزاد کرده است\n",
    "\n",
    "def subtract_1():\n",
    "    global num\n",
    "\n",
    "    lock.acquire()  # برنامه را قفل کرده است\n",
    "    for _ in range(100000):\n",
    "        num -=1\n",
    "    lock.release()  # برنامه را آزاد کرده است"
   ]
  },
  {
   "cell_type": "code",
   "execution_count": 7,
   "metadata": {},
   "outputs": [
    {
     "name": "stdout",
     "output_type": "stream",
     "text": [
      "0\n",
      "Done ...!\n"
     ]
    }
   ],
   "source": [
    "t1 = Thread(target=add_1)\n",
    "t2 = Thread(target=subtract_1)\n",
    "\n",
    "t1.start()\n",
    "t2.start()\n",
    "\n",
    "t1.join()\n",
    "t2.join()\n",
    "\n",
    "print(num)\n",
    "print('Done ...!')"
   ]
  },
  {
   "cell_type": "markdown",
   "metadata": {},
   "source": [
    "## Dead lock  چیست\n",
    "ممکن است به دلایل متعددی  برنامه قفل شود \n",
    "مثلا بجای نوشتن ریلیز اشتباها مجدد لاک بزنیم.\n",
    "\n",
    "راه حل استفاده از \n",
    "+ with\n"
   ]
  },
  {
   "cell_type": "code",
   "execution_count": 63,
   "metadata": {},
   "outputs": [],
   "source": [
    "num =0  #share resource\n",
    "lock=Lock()  # یادت نره\n",
    "\n",
    "def add_2():\n",
    "    global num\n",
    "\n",
    "    with lock:\n",
    "        for _ in range(100000):\n",
    "            num +=1\n",
    "\n",
    "def subtract_2():\n",
    "    global num\n",
    "\n",
    "    with lock:\n",
    "        for _ in range(100000):\n",
    "            num -=1\n"
   ]
  },
  {
   "cell_type": "code",
   "execution_count": 64,
   "metadata": {},
   "outputs": [
    {
     "name": "stdout",
     "output_type": "stream",
     "text": [
      "0\n",
      "Done ...!\n"
     ]
    }
   ],
   "source": [
    "t1 = Thread(target=add_2)\n",
    "t2 = Thread(target=subtract_2)\n",
    "\n",
    "t1.start()\n",
    "t2.start()\n",
    "\n",
    "t1.join()\n",
    "t2.join()\n",
    "\n",
    "print(num)\n",
    "print('Done ...!')"
   ]
  },
  {
   "cell_type": "code",
   "execution_count": null,
   "metadata": {},
   "outputs": [],
   "source": []
  }
 ],
 "metadata": {
  "interpreter": {
   "hash": "916dbcbb3f70747c44a77c7bcd40155683ae19c65e1c03b4aa3499c5328201f1"
  },
  "kernelspec": {
   "display_name": "Python 3.10.4 64-bit",
   "language": "python",
   "name": "python3"
  },
  "language_info": {
   "codemirror_mode": {
    "name": "ipython",
    "version": 3
   },
   "file_extension": ".py",
   "mimetype": "text/x-python",
   "name": "python",
   "nbconvert_exporter": "python",
   "pygments_lexer": "ipython3",
   "version": "3.10.4"
  },
  "orig_nbformat": 4
 },
 "nbformat": 4,
 "nbformat_minor": 2
}
