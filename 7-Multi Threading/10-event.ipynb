{
 "cells": [
  {
   "cell_type": "markdown",
   "metadata": {},
   "source": [
    "## Event\n",
    "کاربرد ابن متد:\n",
    "\n",
    "زمانی که بخواهیم دو یا چندترد با همدیگر کار کنند و زمان اجرایشان با هم باشد\n",
    "\n",
    "با استفاده از این متد نیازی به جوین نیست."
   ]
  },
  {
   "cell_type": "markdown",
   "metadata": {},
   "source": [
    "Event methods:\n",
    "+ set:\n",
    "    +   به ترد یک فلگ میدهد تا در مجموعه ترد های که قرار است با هم همکاری داشته باشند قرار بگیرد\n",
    "+ wait:\n",
    "    +   منظر میماند تا ترد دیگری که صدا زده شده اماده اجرا شود\n",
    "+ clear:\n",
    "    +   فلگ تنظیم شده در مرحله ست را پاک میکند"
   ]
  },
  {
   "cell_type": "code",
   "execution_count": 1,
   "metadata": {},
   "outputs": [],
   "source": [
    "from threading import Event,Thread\n",
    "from time import sleep"
   ]
  },
  {
   "cell_type": "code",
   "execution_count": 10,
   "metadata": {},
   "outputs": [],
   "source": [
    "\n",
    "\n",
    "def first(f1,s1):\n",
    "    print('first is ready .')\n",
    "\n",
    "    sleep(20)\n",
    "\n",
    "    f.set()   # برای تردی که میخواهد تین تابع را اجرا کند یک فلگ تنظیم میکند \n",
    "    s.wait()  # منتظر است تا تابع دیگر نیز آماده شود \n",
    "    print('first is working.')\n",
    "    f.clear()  # فلگ را پاک میکند\n",
    "    \n",
    "\n",
    "def second(f1,s1):\n",
    "    print('second is ready .')\n",
    "\n",
    "    s.set()\n",
    "    f.wait()\n",
    "    print('second is working')\n",
    "    s.clear()"
   ]
  },
  {
   "cell_type": "markdown",
   "metadata": {},
   "source": [
    "## توضیح\n",
    "تابع دوم بیست ثانیه منظر تابع دوم میماند \n",
    "بعد هردو باهم اجرا میشوند.\n",
    "\n",
    "هر تابعی بیشتر زمان ببرد که اجرا شود تابع دیگر منتظرش می ماند."
   ]
  },
  {
   "cell_type": "code",
   "execution_count": 12,
   "metadata": {},
   "outputs": [
    {
     "name": "stdout",
     "output_type": "stream",
     "text": [
      "first is ready .\n",
      "second is ready .\n",
      "first is working.\n",
      "second is working\n"
     ]
    }
   ],
   "source": [
    "f = Event()   # for First\n",
    "s = Event()   # for Second\n",
    "\n",
    "t1 = Thread( target=first, args=(f,s) )\n",
    "t2 = Thread( target=second,args=(f,s))\n",
    "\n",
    "t1.start()\n",
    "t2.start()"
   ]
  },
  {
   "cell_type": "code",
   "execution_count": null,
   "metadata": {},
   "outputs": [],
   "source": []
  }
 ],
 "metadata": {
  "interpreter": {
   "hash": "916dbcbb3f70747c44a77c7bcd40155683ae19c65e1c03b4aa3499c5328201f1"
  },
  "kernelspec": {
   "display_name": "Python 3.10.4 64-bit",
   "language": "python",
   "name": "python3"
  },
  "language_info": {
   "codemirror_mode": {
    "name": "ipython",
    "version": 3
   },
   "file_extension": ".py",
   "mimetype": "text/x-python",
   "name": "python",
   "nbconvert_exporter": "python",
   "pygments_lexer": "ipython3",
   "version": "3.10.4"
  },
  "orig_nbformat": 4
 },
 "nbformat": 4,
 "nbformat_minor": 2
}
