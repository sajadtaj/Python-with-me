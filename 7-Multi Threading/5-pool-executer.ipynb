{
 "cells": [
  {
   "cell_type": "markdown",
   "metadata": {},
   "source": [
    "## pool Executer\n",
    "به ما اجازه میدهد چندین ترد را بصورت همزمان اجرا کنیم"
   ]
  },
  {
   "cell_type": "code",
   "execution_count": 2,
   "metadata": {},
   "outputs": [],
   "source": [
    "from concurrent.futures import ThreadPoolExecutor"
   ]
  },
  {
   "cell_type": "code",
   "execution_count": 3,
   "metadata": {},
   "outputs": [],
   "source": [
    "from time import sleep\n",
    "from threading import Thread\n",
    "\n",
    "def show(name):\n",
    "    print(f'starting {name} -->')\n",
    "    sleep(5)\n",
    "    print(f'finishing {name} --|')"
   ]
  },
  {
   "cell_type": "markdown",
   "metadata": {},
   "source": [
    "## مثال\n",
    "میخواهیم چند ترد را بسازیم "
   ]
  },
  {
   "cell_type": "code",
   "execution_count": 4,
   "metadata": {},
   "outputs": [
    {
     "name": "stdout",
     "output_type": "stream",
     "text": [
      "starting one -->\n",
      "starting tow -->\n",
      "starting three -->\n",
      "starting four -->\n",
      "starting five -->\n",
      "finishing tow --|\n",
      "finishing one --|\n",
      "finishing three --|finishing four --|\n",
      "\n",
      "finishing five --|\n",
      "Done ...\n"
     ]
    }
   ],
   "source": [
    "with ThreadPoolExecutor() as executer:\n",
    "    names=['one','tow','three','four','five']\n",
    "    executer.map(show,names)\n",
    "\n",
    "print(\"Done ...\")"
   ]
  },
  {
   "cell_type": "markdown",
   "metadata": {},
   "source": [
    "## max_workers\n",
    "به کمک آن میتوانیم روی تعداد ترد های که هربار اجرا میشوند محدودیت بگذاریم\n",
    "+ مثلا چهار تا چهار تا اجرا شود"
   ]
  },
  {
   "cell_type": "code",
   "execution_count": 5,
   "metadata": {},
   "outputs": [
    {
     "name": "stdout",
     "output_type": "stream",
     "text": [
      "starting one -->\n",
      "starting tow -->\n",
      "starting three -->\n",
      "starting four -->\n",
      "finishing one --|\n",
      "starting five -->\n",
      "finishing four --|finishing three --|finishing tow --|\n",
      "starting six -->\n",
      "\n",
      "\n",
      "starting seven -->\n",
      "starting eight -->\n",
      "finishing five --|\n",
      "finishing six --|finishing seven --|finishing eight --|\n",
      "\n",
      "\n",
      "Done ...\n"
     ]
    }
   ],
   "source": [
    "with ThreadPoolExecutor(max_workers=4) as executer:\n",
    "    names=['one','tow','three','four','five','six','seven','eight']\n",
    "    executer.map(show,names)\n",
    "\n",
    "print(\"Done ...\")"
   ]
  },
  {
   "cell_type": "markdown",
   "metadata": {},
   "source": [
    "## نکته\n",
    "همان گونه که دربالا مشاهده میکنید ترتیب پردازش  بگونه ای نیست که ما میخواهیم بلکه سیپیو تصمیم میگیرد کدام ترد زود تر تمام شود"
   ]
  },
  {
   "cell_type": "markdown",
   "metadata": {},
   "source": [
    "## Practice"
   ]
  },
  {
   "cell_type": "code",
   "execution_count": 6,
   "metadata": {},
   "outputs": [],
   "source": [
    "## practice\n",
    "from threading import current_thread\n",
    "\n",
    "def father(name,age):\n",
    "    print(f\"My name is {name} i have {age} years old and my score is \")\n",
    "    sleep(4)"
   ]
  },
  {
   "cell_type": "code",
   "execution_count": 9,
   "metadata": {},
   "outputs": [
    {
     "name": "stdout",
     "output_type": "stream",
     "text": [
      "My name is ali i have 12 years old and my score is \n",
      "My name is ahmad i have 14 years old and my score is \n",
      "My name is samad i have 15 years old and my score is \n",
      "Done ...\n"
     ]
    }
   ],
   "source": [
    "# c=(['jan'],12)\n",
    "# b=('ahmad',21)\n",
    "# a=('ali',22)\n",
    "# d =('jalal',22)\n",
    "\n",
    "\n",
    "with ThreadPoolExecutor() as executer:\n",
    "    name = ('ali','ahmad','samad')\n",
    "    age = (12,14,15)\n",
    "    #executer.map(father,('ali','ahmad'),(13,12))    \n",
    "    executer.map(father,name,age)              \n",
    "\n",
    "\n",
    "print('Done ...')"
   ]
  },
  {
   "cell_type": "code",
   "execution_count": 66,
   "metadata": {},
   "outputs": [],
   "source": [
    "x=map(father,('ali','hoda','jafar'),(12,25,45))"
   ]
  },
  {
   "cell_type": "code",
   "execution_count": 67,
   "metadata": {},
   "outputs": [
    {
     "name": "stdout",
     "output_type": "stream",
     "text": [
      "My name is ali i have 12 years old and my score is \n",
      "My name is hoda i have 25 years old and my score is \n",
      "My name is jafar i have 45 years old and my score is \n",
      "[None, None, None]\n"
     ]
    }
   ],
   "source": [
    "print(list(x))"
   ]
  },
  {
   "cell_type": "code",
   "execution_count": null,
   "metadata": {},
   "outputs": [],
   "source": []
  }
 ],
 "metadata": {
  "interpreter": {
   "hash": "916dbcbb3f70747c44a77c7bcd40155683ae19c65e1c03b4aa3499c5328201f1"
  },
  "kernelspec": {
   "display_name": "Python 3.10.4 64-bit",
   "language": "python",
   "name": "python3"
  },
  "language_info": {
   "codemirror_mode": {
    "name": "ipython",
    "version": 3
   },
   "file_extension": ".py",
   "mimetype": "text/x-python",
   "name": "python",
   "nbconvert_exporter": "python",
   "pygments_lexer": "ipython3",
   "version": "3.10.4"
  },
  "orig_nbformat": 4
 },
 "nbformat": 4,
 "nbformat_minor": 2
}
