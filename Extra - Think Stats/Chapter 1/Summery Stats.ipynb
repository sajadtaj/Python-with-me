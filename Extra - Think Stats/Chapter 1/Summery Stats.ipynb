{
 "cells": [
  {
   "cell_type": "code",
   "execution_count": 2,
   "id": "edc930c0",
   "metadata": {},
   "outputs": [],
   "source": [
    "import pandas as pd\n",
    "import numpy as np\n",
    "import matplotlib.pyplot as plt"
   ]
  },
  {
   "cell_type": "code",
   "execution_count": 8,
   "id": "3446e5c5",
   "metadata": {
    "scrolled": true
   },
   "outputs": [
    {
     "data": {
      "text/plain": [
       "array([47.46423574, 51.02183892, 44.37175868, 46.17401663, 45.7363958 ,\n",
       "       45.35148648, 48.17226904, 44.06490615, 41.03137795, 42.67052102,\n",
       "       45.76954647, 47.87052677, 47.46347822, 44.50870322, 42.95957869,\n",
       "       41.69042017, 45.47100821, 50.61978031, 46.13366907, 45.2372302 ,\n",
       "       38.76789103, 43.7549513 , 47.45447503, 40.41275603, 41.95555573,\n",
       "       42.70193944, 39.79902305, 42.00655912, 45.66250656, 45.66437168,\n",
       "       40.99720351, 46.20593122, 39.95733512, 50.99041664, 41.3363916 ,\n",
       "       43.45651192, 47.66794609, 40.30701674, 46.68897327, 38.11146413,\n",
       "       46.00721956, 45.53000406, 48.16018162, 40.24164745, 49.44735204,\n",
       "       46.7300007 , 41.36396127, 42.52762582, 43.66248765, 42.80092401,\n",
       "       47.32445293, 40.28276222, 45.71812322, 42.06433604, 49.80683202,\n",
       "       45.77634   , 46.27480331, 48.55058253, 45.53291337, 40.32057016,\n",
       "       41.36223423, 45.18959738, 35.50958071, 45.66687537, 49.0813184 ,\n",
       "       42.22413925, 45.8835389 , 42.83151536, 42.8708746 , 49.32687791,\n",
       "       44.17424474, 50.66245498, 44.07238872, 45.58147549, 46.01457531,\n",
       "       46.09903468, 39.1888382 , 38.85127185, 50.07686523, 47.21918948,\n",
       "       47.38353292, 42.94274474, 43.29611986, 41.20588078, 47.07619848,\n",
       "       44.89390569, 39.77204826, 47.91861911, 45.37236458, 42.31663885,\n",
       "       46.77989653, 46.3033427 , 41.49924117, 44.42655783, 45.6034043 ,\n",
       "       40.27740747, 45.95997851, 44.0827593 , 46.24595209, 44.46425035,\n",
       "       42.31665761, 42.70078708, 43.40308289, 47.17782597, 41.34290371,\n",
       "       43.564755  , 46.03017147, 42.91358036, 47.32386743, 45.53605553,\n",
       "       45.71827467, 40.18479894, 40.62501937, 47.27526597, 46.28052382,\n",
       "       44.93913623, 40.44056846, 49.87688443, 45.82070208, 45.5988682 ,\n",
       "       41.49618497, 47.0474438 , 43.22264   , 42.05546805, 44.11123727,\n",
       "       45.77900507, 38.2418669 , 43.54012182, 42.9021216 , 45.72150775,\n",
       "       46.29776202, 47.72939586, 45.41410631, 48.69233831, 41.07848188,\n",
       "       44.49394503, 45.78135009, 46.34154195, 44.23886349, 41.54369252,\n",
       "       42.71658382, 41.76192472, 41.24247287, 47.68455261, 40.58639413,\n",
       "       41.92115842, 42.12317064, 44.17838314, 47.61158037, 42.67392071,\n",
       "       43.79454235, 46.65358945, 46.81022389, 47.20193075, 49.31601218,\n",
       "       44.15318889, 49.87107662, 42.48158167, 44.91612608, 41.81431092,\n",
       "       43.12413892, 44.75966807, 43.52537355, 44.81780352, 39.19411992,\n",
       "       41.15572457, 44.43965666, 48.45841042, 47.68060587, 45.42467565,\n",
       "       45.7396453 , 38.39892411, 38.52717161, 43.30956869, 45.54631084,\n",
       "       41.9918016 , 44.57971511, 44.11208327, 51.50521363, 47.4335325 ,\n",
       "       44.19431423, 45.94269596, 45.83586084, 46.95451383, 40.38941097,\n",
       "       44.78610873, 46.35506598, 45.27073145, 44.43293574, 50.71246588,\n",
       "       43.74232398, 42.02383657, 38.59484728, 43.71369027, 47.77676061,\n",
       "       46.25158444, 42.66504024, 44.10557048, 41.94571986, 41.25277423,\n",
       "       43.56396794, 42.03632302, 41.17628876, 44.5889893 , 39.84786386,\n",
       "       41.06778772, 40.41874364, 46.94659669, 41.71523498, 43.47496034,\n",
       "       43.08673947, 44.78006415, 47.04253602, 45.67551963, 44.06378176,\n",
       "       46.2850171 , 43.37082849, 41.78647992, 43.12960181, 41.94783866,\n",
       "       50.1305338 , 44.23164582, 39.58820398, 42.14947344, 52.89097637,\n",
       "       41.43769855, 48.89288094, 42.57308316, 47.32613655, 46.66404395,\n",
       "       44.08234759, 48.32024722, 51.22309773, 45.20216325, 45.16545864,\n",
       "       51.69397058, 45.22205604, 47.11216905, 43.53868618, 45.26925114,\n",
       "       44.03493492, 49.52486042, 44.70502955, 45.22547627, 43.88143744,\n",
       "       41.29683322, 44.62996943, 47.67450935, 40.76511089, 46.41383814])"
      ]
     },
     "execution_count": 8,
     "metadata": {},
     "output_type": "execute_result"
    }
   ],
   "source": [
    "mu, sigma = 45, 3 # mean and standard deviation\n",
    "s = np.random.normal(mu, sigma, 250)\n",
    "s"
   ]
  },
  {
   "cell_type": "code",
   "execution_count": 9,
   "id": "293e6f19",
   "metadata": {},
   "outputs": [
    {
     "data": {
      "text/plain": [
       "44.5094641265457"
      ]
     },
     "execution_count": 9,
     "metadata": {},
     "output_type": "execute_result"
    }
   ],
   "source": [
    "np.mean(s)"
   ]
  },
  {
   "cell_type": "code",
   "execution_count": 10,
   "id": "130fef5e",
   "metadata": {},
   "outputs": [
    {
     "data": {
      "text/plain": [
       "44.54420916428215"
      ]
     },
     "execution_count": 10,
     "metadata": {},
     "output_type": "execute_result"
    }
   ],
   "source": [
    "np.median(s)"
   ]
  },
  {
   "cell_type": "code",
   "execution_count": 11,
   "id": "4e0c5e86",
   "metadata": {},
   "outputs": [
    {
     "data": {
      "text/plain": [
       "3.0034574438921133"
      ]
     },
     "execution_count": 11,
     "metadata": {},
     "output_type": "execute_result"
    }
   ],
   "source": [
    "np.std(s)"
   ]
  },
  {
   "cell_type": "code",
   "execution_count": 12,
   "id": "38382140",
   "metadata": {},
   "outputs": [
    {
     "data": {
      "text/plain": [
       "9.020756617270948"
      ]
     },
     "execution_count": 12,
     "metadata": {},
     "output_type": "execute_result"
    }
   ],
   "source": [
    "np.var(s)"
   ]
  },
  {
   "cell_type": "code",
   "execution_count": 13,
   "id": "80fbcd1e",
   "metadata": {},
   "outputs": [
    {
     "data": {
      "image/png": "[encoded data removed]",
      "text/plain": [
       "<Figure size 432x288 with 1 Axes>"
      ]
     },
     "metadata": {
      "needs_background": "light"
     },
     "output_type": "display_data"
    }
   ],
   "source": [
    "\n",
    "\n",
    "plt.hist(s, bins =50)\n",
    "plt.show()"
   ]
  },
  {
   "cell_type": "markdown",
   "id": "43f27153",
   "metadata": {},
   "source": [
    "## What are Percentiles?\n",
    "Percentiles are used in statistics to give you a number that describes the value that a given percent of the values are lower than."
   ]
  },
  {
   "cell_type": "code",
   "execution_count": 40,
   "id": "83c54f4d",
   "metadata": {},
   "outputs": [
    {
     "data": {
      "text/plain": [
       "45.01023299644736"
      ]
     },
     "execution_count": 40,
     "metadata": {},
     "output_type": "execute_result"
    }
   ],
   "source": [
    "np.percentile(s, 50)"
   ]
  },
  {
   "cell_type": "code",
   "execution_count": 43,
   "id": "4413a81a",
   "metadata": {},
   "outputs": [
    {
     "data": {
      "text/plain": [
       "52.082609319375585"
      ]
     },
     "execution_count": 43,
     "metadata": {},
     "output_type": "execute_result"
    }
   ],
   "source": [
    "np.percentile(s, 99)"
   ]
  },
  {
   "cell_type": "code",
   "execution_count": null,
   "id": "cfa1c7f5",
   "metadata": {},
   "outputs": [],
   "source": []
  }
 ],
 "metadata": {
  "kernelspec": {
   "display_name": "Python 3 (ipykernel)",
   "language": "python",
   "name": "python3"
  },
  "language_info": {
   "codemirror_mode": {
    "name": "ipython",
    "version": 3
   },
   "file_extension": ".py",
   "mimetype": "text/x-python",
   "name": "python",
   "nbconvert_exporter": "python",
   "pygments_lexer": "ipython3",
   "version": "3.9.7"
  }
 },
 "nbformat": 4,
 "nbformat_minor": 5
}
