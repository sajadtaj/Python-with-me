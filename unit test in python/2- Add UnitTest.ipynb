{
 "cells": [
  {
   "cell_type": "markdown",
   "metadata": {},
   "source": [
    "## Add Unit Test"
   ]
  },
  {
   "attachments": {},
   "cell_type": "markdown",
   "metadata": {},
   "source": [
    ">> می خواهیم حالت زیر را نیز به مجموعه تست ها اضافه کنیم \\\n",
    ">> اگر فرد نام وسط داشته باشد"
   ]
  },
  {
   "attachments": {},
   "cell_type": "markdown",
   "metadata": {},
   "source": [
    "> ### We modify last function to :"
   ]
  },
  {
   "cell_type": "code",
   "execution_count": 4,
   "metadata": {},
   "outputs": [],
   "source": [
    "# our function\n",
    "def GetNameFamily(name  ,family,middle=''):\n",
    "    if middle:\n",
    "        return rf\"{name} {middle} {family}\"\n",
    "    else:\n",
    "        return rf\"{name} {family}\""
   ]
  },
  {
   "attachments": {},
   "cell_type": "markdown",
   "metadata": {},
   "source": [
    "> ### We modify last Test to :\n",
    ">> Add unit Test"
   ]
  },
  {
   "cell_type": "code",
   "execution_count": null,
   "metadata": {},
   "outputs": [],
   "source": [
    "\n",
    "\n",
    "# Test Class\n",
    "class TestMyfunction(unittest.TestCase):\n",
    "    def test_name_fmily(self):                                   # unit test\n",
    "        FunctionOutput =  GetNameFamily('Xirano' , 'taj')       # Call our function for check\n",
    "        self.assertEqual(FunctionOutput, 'Xirano taj' )         # check output of function\n",
    "\n",
    "    def test_name_fmily(self):\n",
    "        FunctionOutput =  GetNameFamily('Xirano' ,'Senior', 'taj')       # Call our function for check\n",
    "        self.assertEqual(FunctionOutput, 'Xiorano Senior taj' )           # check output of function\n"
   ]
  },
  {
   "cell_type": "markdown",
   "metadata": {},
   "source": [
    "## run above CELL in Modual\n",
    ">> Run above function in :\n",
    "+   ourModifyFunction.py\n",
    "+   testModifyGetNF.py"
   ]
  }
 ],
 "metadata": {
  "kernelspec": {
   "display_name": "base",
   "language": "python",
   "name": "python3"
  },
  "language_info": {
   "codemirror_mode": {
    "name": "ipython",
    "version": 3
   },
   "file_extension": ".py",
   "mimetype": "text/x-python",
   "name": "python",
   "nbconvert_exporter": "python",
   "pygments_lexer": "ipython3",
   "version": "3.9.12"
  },
  "orig_nbformat": 4
 },
 "nbformat": 4,
 "nbformat_minor": 2
}
