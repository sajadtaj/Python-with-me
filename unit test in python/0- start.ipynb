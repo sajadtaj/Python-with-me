{
 "cells": [
  {
   "cell_type": "code",
   "execution_count": 6,
   "metadata": {},
   "outputs": [],
   "source": [
    "import unittest\n",
    "import pandas as pd\n"
   ]
  },
  {
   "attachments": {},
   "cell_type": "markdown",
   "metadata": {},
   "source": [
    "# test\n",
    ">> برای اینست که ببینیم آیا خروجی توابع ما با انواع ورودی و تحت شرایط مختلف آیا همچنان صحیح کار میکنند"
   ]
  },
  {
   "attachments": {},
   "cell_type": "markdown",
   "metadata": {},
   "source": [
    "## Unit Test\n",
    ">> For test unit aspect of function\n",
    "## Case Test \n",
    ">> For Test multi init for test all aspect of function"
   ]
  },
  {
   "attachments": {},
   "cell_type": "markdown",
   "metadata": {},
   "source": [
    "# Steps\n",
    "\n",
    "1- import unit test \\\n",
    "2- import our modual \\\n",
    "3- create class inheritance unittest.TestCase \\\n",
    "4- call function for test in class \\\n",
    "5- test all dimension of function  \n"
   ]
  },
  {
   "attachments": {},
   "cell_type": "markdown",
   "metadata": {},
   "source": [
    "### unit test\n",
    ">> یونیت تست ها یک واحد از تست های ما هستند که یک جنبه از عملکرد برنامه ما را بررسی میکنن \\\n",
    ">> حتما باید با واژه زیر شروع شوند: \\\n",
    ">> test_   -> like: test_SampleName"
   ]
  },
  {
   "cell_type": "code",
   "execution_count": 5,
   "metadata": {},
   "outputs": [],
   "source": [
    "# our function\n",
    "def GetNameFamily(name , family):\n",
    "    return name +' '+ family\n",
    "\n",
    "\n",
    "# Test Class\n",
    "class TestMyfunction(unittest.TestCase):\n",
    "    def test_name_fmily(self):                                   # unit test\n",
    "        FunctionOutput =  GetNameFamily('Xiorano' , 'taj')       # Call our function for check\n",
    "        self.assertEqual(FunctionOutput, 'Xiorano taj' )         # check output of function\n"
   ]
  },
  {
   "attachments": {},
   "cell_type": "markdown",
   "metadata": {},
   "source": [
    "## run above CELL in Modual\n",
    ">> Run above function in :\n",
    "+   ourFunction.py\n",
    "+   testGetNF.py"
   ]
  }
 ],
 "metadata": {
  "kernelspec": {
   "display_name": "base",
   "language": "python",
   "name": "python3"
  },
  "language_info": {
   "codemirror_mode": {
    "name": "ipython",
    "version": 3
   },
   "file_extension": ".py",
   "mimetype": "text/x-python",
   "name": "python",
   "nbconvert_exporter": "python",
   "pygments_lexer": "ipython3",
   "version": "3.9.12"
  },
  "orig_nbformat": 4
 },
 "nbformat": 4,
 "nbformat_minor": 2
}
