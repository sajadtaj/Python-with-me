{
 "cells": [
  {
   "attachments": {},
   "cell_type": "markdown",
   "metadata": {},
   "source": [
    "## if we wana test this function with more than 1 time"
   ]
  },
  {
   "attachments": {},
   "cell_type": "markdown",
   "metadata": {},
   "source": [
    "> ### input\n",
    ">> we test our function with this inputs"
   ]
  },
  {
   "cell_type": "code",
   "execution_count": null,
   "metadata": {},
   "outputs": [],
   "source": [
    "# Structure\n",
    "# inputFun = [ (firstname, last name, Result)]\n",
    "\n",
    "inputFun = [\n",
    "            (\"Ali\",\"Ahmadi\",'Ali Ahmadi')\n",
    "            ,(\"Darab\",\"firoozi\",'Darab firoozi')\n",
    "            ,(\"ahmad\",\"asadi\",\"kangarshahi\",'ahmad asadi kangarshahi')\n",
    "            ,(\"firooz\",\" nadery\",'firooz nadery')\n",
    "            ,(\"sara\",123,'')\n",
    "            ,(\"ali \",\"goodarzi\",'ali goodarzi')\n",
    "            ]"
   ]
  },
  {
   "attachments": {},
   "cell_type": "markdown",
   "metadata": {},
   "source": [
    "## trest class for test in many cases\n",
    "> test function with above input"
   ]
  },
  {
   "cell_type": "code",
   "execution_count": null,
   "metadata": {},
   "outputs": [],
   "source": [
    "# Test Class\n",
    "class TestMyfunction(unittest.TestCase):\n",
    "    def test_name_fmily(self):         \n",
    "        for i in inputFun:                # unit test\n",
    "            with self.subTest(i=i):\n",
    "                FunctionOutput =  GetNameFamily(i[0] , i[1])       # Call our function for check\n",
    "                self.assertEqual(FunctionOutput, i[2] )         # check output of function\n",
    "\n",
    "\n",
    "if __name__ == \"__main__\":\n",
    "    unittest.main()"
   ]
  },
  {
   "attachments": {},
   "cell_type": "markdown",
   "metadata": {},
   "source": [
    "## run above CELL in Modual\n",
    ">> Run above function in :\n",
    "+   ourFunction.py\n",
    "+   testWithManyInput.py"
   ]
  },
  {
   "cell_type": "markdown",
   "metadata": {},
   "source": []
  }
 ],
 "metadata": {
  "kernelspec": {
   "display_name": "base",
   "language": "python",
   "name": "python3"
  },
  "language_info": {
   "name": "python",
   "version": "3.9.12"
  },
  "orig_nbformat": 4
 },
 "nbformat": 4,
 "nbformat_minor": 2
}
