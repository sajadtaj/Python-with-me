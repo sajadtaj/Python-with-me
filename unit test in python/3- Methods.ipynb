{
 "cells": [
  {
   "attachments": {},
   "cell_type": "markdown",
   "metadata": {},
   "source": [
    "## There are also other methods used to perform more specific checks, such as"
   ]
  },
  {
   "attachments": {},
   "cell_type": "markdown",
   "metadata": {},
   "source": [
    "> __assertAlmostEqual(a, b)__ \\\n",
    "> round(a-b, 7) == 0\n",
    "\n",
    "> __assertNotAlmostEqual(a, b)__ \\\n",
    "> round(a-b, 7) != 0\n",
    "\n",
    "> __assertGreater(a, b)__ \\\n",
    "> a > b\n",
    "\n",
    "> __assertGreaterEqual(a, b)__ \\\n",
    "> a >= b\n",
    "\n",
    "> __assertLess(a, b)__ \\\n",
    "> a < b\n",
    "\n",
    "> __assertLessEqual(a, b)__ \\\n",
    "> a <= b\n",
    "\n",
    "> __assertRegex(s, r)__ \\\n",
    "> r.search(s)\n",
    "\n",
    "> __assertNotRegex(s, r)__ \\\n",
    "> not r.search(s)\n",
    "\n",
    "> __assertCountEqual(a, b)__ \\\n",
    "> a and b have the same elements in the same number, regardless of their order."
   ]
  },
  {
   "cell_type": "code",
   "execution_count": null,
   "metadata": {
    "vscode": {
     "languageId": "plaintext"
    }
   },
   "outputs": [],
   "source": []
  }
 ],
 "metadata": {
  "language_info": {
   "name": "python"
  },
  "orig_nbformat": 4
 },
 "nbformat": 4,
 "nbformat_minor": 2
}
