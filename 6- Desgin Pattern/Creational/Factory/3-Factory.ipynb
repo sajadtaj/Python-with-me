{
 "cells": [
  {
   "cell_type": "markdown",
   "metadata": {},
   "source": [
    "## Translaion App\n",
    "+   Now our app has become widely popular among people but the demand has grown suddenly to include 5 more languages. "
   ]
  },
  {
   "cell_type": "markdown",
   "metadata": {},
   "source": [
    "### _without using Factory method_"
   ]
  },
  {
   "cell_type": "code",
   "execution_count": 1,
   "metadata": {},
   "outputs": [],
   "source": [
    "\n",
    "#-------------------------------------------+\n",
    "#                   English                 |\n",
    "#-------------------------------------------+\n",
    "\n",
    "class EnglishLocalizer:\n",
    "    \"\"\"Simply return the same message\"\"\"\n",
    "    def localize(self, msg):\n",
    "        return msg\n",
    "\n",
    "#-------------------------------------------+\n",
    "#                   French                  |\n",
    "#-------------------------------------------+\n",
    "class FrenchLocalizer:\n",
    "    \"\"\" it simply returns the french version \"\"\"\n",
    "    def __init__(self):\n",
    "        self.translations = \\\n",
    "        {\"car\": \"voiture\",\n",
    "        \"bike\": \"bicyclette\",\n",
    "        \"cycle\":\"cyclette\"}\n",
    "\n",
    "    def localize(self, msg):\n",
    "        \"\"\"change the message using translations\"\"\"\n",
    "        return self.translations.get(msg, msg)\n",
    "\n",
    "#-------------------------------------------+\n",
    "#                   Spanish                 |\n",
    "#-------------------------------------------+\n",
    "class SpanishLocalizer:\n",
    "    \"\"\"it simply returns the spanish version\"\"\"\n",
    "    def __init__(self):\n",
    "        self.translations = \\\n",
    "        {\"car\": \"coche\",\n",
    "        \"bike\": \"bicicleta\",\n",
    "        \"cycle\":\"ciclo\"}\n",
    "\n",
    "    def localize(self, msg):\n",
    "        \"\"\"change the message using translations\"\"\"\n",
    "        return self.translations.get(msg, msg)\n"
   ]
  },
  {
   "cell_type": "markdown",
   "metadata": {},
   "source": [
    "## _Test_"
   ]
  },
  {
   "cell_type": "code",
   "execution_count": 2,
   "metadata": {},
   "outputs": [],
   "source": [
    "# main method to call others\n",
    "f = FrenchLocalizer()\n",
    "e = EnglishLocalizer()\n",
    "s = SpanishLocalizer()\n",
    "# list of strings\n",
    "message = [\"car\", \"bike\", \"cycle\"]"
   ]
  },
  {
   "cell_type": "code",
   "execution_count": 3,
   "metadata": {},
   "outputs": [
    {
     "name": "stdout",
     "output_type": "stream",
     "text": [
      "voiture\n",
      "bicyclette\n",
      "cyclette\n"
     ]
    }
   ],
   "source": [
    "for msg in message:\n",
    "    print(f.localize(msg))\n"
   ]
  },
  {
   "cell_type": "code",
   "execution_count": 4,
   "metadata": {},
   "outputs": [
    {
     "data": {
      "text/plain": [
       "'voiture'"
      ]
     },
     "execution_count": 4,
     "metadata": {},
     "output_type": "execute_result"
    }
   ],
   "source": [
    "f.localize('car')"
   ]
  },
  {
   "cell_type": "code",
   "execution_count": 4,
   "metadata": {},
   "outputs": [
    {
     "name": "stdout",
     "output_type": "stream",
     "text": [
      "car\n",
      "bike\n",
      "cycle\n"
     ]
    }
   ],
   "source": [
    "for msg in message:\n",
    "    print(e.localize(msg))\n"
   ]
  },
  {
   "cell_type": "code",
   "execution_count": 5,
   "metadata": {},
   "outputs": [
    {
     "name": "stdout",
     "output_type": "stream",
     "text": [
      "coche\n",
      "bicicleta\n",
      "ciclo\n"
     ]
    }
   ],
   "source": [
    "for msg in message:\n",
    "    print(s.localize(msg))"
   ]
  },
  {
   "cell_type": "markdown",
   "metadata": {},
   "source": [
    "## _with using Factory method_"
   ]
  },
  {
   "cell_type": "code",
   "execution_count": 7,
   "metadata": {},
   "outputs": [],
   "source": [
    "#-------------------------------------------+\n",
    "#                   Factory                 |\n",
    "#-------------------------------------------+\n",
    "def Factory(language =\"English\"):\n",
    "    \"\"\"Factory Method\"\"\"\n",
    "    localizers = {\n",
    "        \"French\": FrenchLocalizer,\n",
    "        \"English\": EnglishLocalizer,\n",
    "        \"Spanish\": SpanishLocalizer,\n",
    "    }\n",
    "\n",
    "    return localizers[language]()\n",
    "\n",
    "#-------------------------------------------+\n",
    "#                   English                 |\n",
    "#-------------------------------------------+\n",
    "class EnglishLocalizer:\n",
    "    \"\"\"Simply return the same message\"\"\"\n",
    "    def localize(self, msg):\n",
    "        return msg\n",
    "\n",
    "#-------------------------------------------+\n",
    "#                   French                  |\n",
    "#-------------------------------------------+\n",
    "class FrenchLocalizer:\n",
    "    \"\"\" it simply returns the french version \"\"\"\n",
    "    def __init__(self):\n",
    "        self.translations = \\\n",
    "        {\"car\": \"voiture\",\n",
    "        \"bike\": \"bicyclette\",\n",
    "        \"cycle\":\"cyclette\"}\n",
    "\n",
    "    def localize(self, msg):\n",
    "        \"\"\"change the message using translations\"\"\"\n",
    "        return self.translations.get(msg, msg)\n",
    "\n",
    "#-------------------------------------------+\n",
    "#                   Spanish                 |\n",
    "#-------------------------------------------+\n",
    "class SpanishLocalizer:\n",
    "    \"\"\"it simply returns the spanish version\"\"\"\n",
    "    def __init__(self):\n",
    "        self.translations = \\\n",
    "        {\"car\": \"coche\",\n",
    "        \"bike\": \"bicicleta\",\n",
    "        \"cycle\":\"ciclo\"}\n",
    "\n",
    "    def localize(self, msg):\n",
    "        \"\"\"change the message using translations\"\"\"\n",
    "        return self.translations.get(msg, msg)"
   ]
  },
  {
   "cell_type": "code",
   "execution_count": 8,
   "metadata": {},
   "outputs": [],
   "source": [
    "f = Factory(\"French\")\n",
    "e = Factory(\"English\")\n",
    "s = Factory(\"Spanish\")\n",
    "\n",
    "message = [\"car\", \"bike\", \"cycle\"]\n"
   ]
  },
  {
   "cell_type": "code",
   "execution_count": 9,
   "metadata": {},
   "outputs": [
    {
     "name": "stdout",
     "output_type": "stream",
     "text": [
      "voiture\n",
      "bicyclette\n",
      "cyclette\n"
     ]
    }
   ],
   "source": [
    "for msg in message:\n",
    "    print(f.localize(msg))\n"
   ]
  },
  {
   "cell_type": "code",
   "execution_count": 10,
   "metadata": {},
   "outputs": [
    {
     "name": "stdout",
     "output_type": "stream",
     "text": [
      "car\n",
      "bike\n",
      "cycle\n"
     ]
    }
   ],
   "source": [
    "for msg in message:\n",
    "    print(e.localize(msg))\n"
   ]
  },
  {
   "cell_type": "code",
   "execution_count": 11,
   "metadata": {},
   "outputs": [
    {
     "name": "stdout",
     "output_type": "stream",
     "text": [
      "coche\n",
      "bicicleta\n",
      "ciclo\n"
     ]
    }
   ],
   "source": [
    "for msg in message:\n",
    "    print(s.localize(msg))"
   ]
  }
 ],
 "metadata": {
  "kernelspec": {
   "display_name": "Python 3.10.7 64-bit",
   "language": "python",
   "name": "python3"
  },
  "language_info": {
   "codemirror_mode": {
    "name": "ipython",
    "version": 3
   },
   "file_extension": ".py",
   "mimetype": "text/x-python",
   "name": "python",
   "nbconvert_exporter": "python",
   "pygments_lexer": "ipython3",
   "version": "3.10.7"
  },
  "orig_nbformat": 4,
  "vscode": {
   "interpreter": {
    "hash": "c5431442ea00844835fa45d5ecfd2bb6879e4a3559b45a48168ff386f7c6a82c"
   }
  }
 },
 "nbformat": 4,
 "nbformat_minor": 2
}
