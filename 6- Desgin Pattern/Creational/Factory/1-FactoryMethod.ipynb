{
 "cells": [
  {
   "cell_type": "markdown",
   "metadata": {},
   "source": [
    "## _Factory Methods_!\n",
    "+   __Factory Methods__:\n",
    "    +   is a creational design pattern that provides an interface for creating objects in a superclass, but allows subclasses to alter the type of objects that will be created.\n",
    "\n",
    "+   __Problem__ : \n",
    "    +   is a creational design pattern that provides an interface for creating objects in a superclass, but allows subclasses to alter the type of objects that will be created.After a while, your app becomes pretty popular. Each day you receive dozens of requests from sea transportation companies to incorporate sea logistics into the app.Great news, right? But how about the code? At present, most of your code is coupled to the Truck class. Adding Ships into the app would require making changes to the entire codebase. Moreover, if later you decide to add another type of transportation to the app, you will probably need to make all of these changes again.As a result, you will end up with pretty nasty code, riddled with conditionals that switch the app’s behavior depending on the class of transportation objects.\n",
    "    \n",
    "+  __Solution__:\n",
    "    +   The Factory Method pattern suggests that you replace direct object construction calls (using the new operator) with calls to a special factory method. Don’t worry: the objects are still created via the new operator, but it’s being called from within the factory method. Objects returned by a factory method are often referred to as products.\n",
    "+   __Application__:\n",
    "    +   Use the Factory Method when you don’t know beforehand the exact types and dependencies of the objects your code should work with.\n",
    "    +   Use the Factory Method when you want to provide users of your library or framework with a way to extend its internal components.\n",
    "    +   Use the Factory Method when you want to save system resources by reusing existing objects instead of rebuilding them each time."
   ]
  },
  {
   "cell_type": "markdown",
   "metadata": {},
   "source": [
    "## Exmple \n",
    "+   Bicycle Factory\n",
    "    +   in this factory you have 3type of bicycle with 3type of Tires and 3type Frame"
   ]
  },
  {
   "cell_type": "code",
   "execution_count": 1,
   "metadata": {},
   "outputs": [],
   "source": [
    "class Bicycle:\n",
    "    def __init__(self, factory):\n",
    "        self.tires = factory().add_tires()\n",
    "        self.frame = factory().add_frame()\n",
    "\n",
    "#*---------------------------------------------+\n",
    "#*                   Factory                   |\n",
    "#*---------------------------------------------+\n",
    "#*Generic\n",
    "class GenericFactory:\n",
    "    def add_tires(self):\n",
    "        return GenericTires()\n",
    "    def add_frame(self):\n",
    "        return GenericFrame()\n",
    "#*Mountain\n",
    "class MountainFactory:\n",
    "    def add_tires(self):\n",
    "        return RuggedTires()\n",
    "    def add_frame(self):\n",
    "        return SturdyFrame()\n",
    "#*Road\n",
    "class RoadFactory:\n",
    "    def add_tires(self):\n",
    "        return RoadTires()\n",
    "    def add_frame(self):\n",
    "        return LightFrame()\n",
    "\n",
    "#* Create NEW Factory\n",
    "#* class NewFactory()\n",
    "\n",
    "#?-----------------------------------------+\n",
    "#?                  Tires                  |\n",
    "#?-----------------------------------------+\n",
    "#?Generic\n",
    "class GenericTires:\n",
    "    def part_type(self):\n",
    "        return 'generic_tires'\n",
    "#?Rugged\n",
    "class RuggedTires:\n",
    "    def part_type(self):\n",
    "        return 'rugged_tires'\n",
    "#?Road\n",
    "class RoadTires:\n",
    "    def part_type(self):\n",
    "        return 'road_tires'\n",
    "\n",
    "#? Create NEW Tires\n",
    "#? class NewTires()\n",
    "\n",
    "#!----------------------------------------+\n",
    "#!                   Frame                |\n",
    "#!----------------------------------------+\n",
    "#!Generic\n",
    "class GenericFrame:\n",
    "    def part_type(self):\n",
    "        return 'generic_frame'\n",
    "#!Sturdy\n",
    "class SturdyFrame:\n",
    "    def part_type(self):\n",
    "        return 'sturdy_frame'\n",
    "#!Light\n",
    "class LightFrame:\n",
    "    def part_type(self):\n",
    "        return 'light_frame'\n",
    "        \n",
    "#! Create NEW Frame\n",
    "#! class NewFrame()"
   ]
  },
  {
   "cell_type": "code",
   "execution_count": 5,
   "metadata": {},
   "outputs": [
    {
     "name": "stdout",
     "output_type": "stream",
     "text": [
      "generic_tires\n",
      "generic_frame\n"
     ]
    }
   ],
   "source": [
    "bike = Bicycle(GenericFactory)\n",
    "print(bike.tires.part_type())\n",
    "print(bike.frame.part_type())"
   ]
  },
  {
   "cell_type": "code",
   "execution_count": 6,
   "metadata": {},
   "outputs": [
    {
     "name": "stdout",
     "output_type": "stream",
     "text": [
      "rugged_tires\n",
      "sturdy_frame\n"
     ]
    }
   ],
   "source": [
    "mountain_bike = Bicycle(MountainFactory)\n",
    "print(mountain_bike.tires.part_type())\n",
    "print(mountain_bike.frame.part_type())"
   ]
  },
  {
   "cell_type": "code",
   "execution_count": 7,
   "metadata": {},
   "outputs": [
    {
     "name": "stdout",
     "output_type": "stream",
     "text": [
      "road_tires\n",
      "light_frame\n"
     ]
    }
   ],
   "source": [
    "road_bike = Bicycle(RoadFactory)\n",
    "print(road_bike.tires.part_type())\n",
    "print(road_bike.frame.part_type())"
   ]
  },
  {
   "cell_type": "code",
   "execution_count": null,
   "metadata": {},
   "outputs": [],
   "source": []
  },
  {
   "cell_type": "code",
   "execution_count": null,
   "metadata": {},
   "outputs": [],
   "source": []
  },
  {
   "cell_type": "code",
   "execution_count": null,
   "metadata": {},
   "outputs": [],
   "source": [
    "\n"
   ]
  }
 ],
 "metadata": {
  "kernelspec": {
   "display_name": "Python 3.9.12 ('base')",
   "language": "python",
   "name": "python3"
  },
  "language_info": {
   "codemirror_mode": {
    "name": "ipython",
    "version": 3
   },
   "file_extension": ".py",
   "mimetype": "text/x-python",
   "name": "python",
   "nbconvert_exporter": "python",
   "pygments_lexer": "ipython3",
   "version": "3.9.12"
  },
  "orig_nbformat": 4,
  "vscode": {
   "interpreter": {
    "hash": "9bbeda1c6abbb2c21c5105a945de5942c2ccd7a899dc663f2be4d1aec5ad013b"
   }
  }
 },
 "nbformat": 4,
 "nbformat_minor": 2
}
