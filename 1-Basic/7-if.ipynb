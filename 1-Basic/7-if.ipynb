{
 "cells": [
  {
   "cell_type": "markdown",
   "metadata": {},
   "source": [
    "## if\n",
    "+   صحت شرط را بررسی میکند"
   ]
  },
  {
   "cell_type": "code",
   "execution_count": 2,
   "metadata": {},
   "outputs": [
    {
     "name": "stdout",
     "output_type": "stream",
     "text": [
      "شرط صحیح است\n"
     ]
    }
   ],
   "source": [
    "if 5==5:\n",
    "    print('شرط صحیح است')"
   ]
  },
  {
   "cell_type": "code",
   "execution_count": 3,
   "metadata": {},
   "outputs": [
    {
     "name": "stdout",
     "output_type": "stream",
     "text": [
      "a not 2,5,7\n"
     ]
    }
   ],
   "source": [
    "a = 10\n",
    "\n",
    "if a == 2:\n",
    "    print('a = 2')\n",
    "elif a == 5:\n",
    "    print('a= 5')\n",
    "elif a== 7:\n",
    "    print('a = 7')\n",
    "else :\n",
    "    print('a not 2,5,7')"
   ]
  },
  {
   "cell_type": "code",
   "execution_count": 5,
   "metadata": {},
   "outputs": [
    {
     "name": "stdout",
     "output_type": "stream",
     "text": [
      "a between 5 an 12\n"
     ]
    }
   ],
   "source": [
    "a = 9\n",
    "\n",
    "if a > 5 :\n",
    "    if a < 12:\n",
    "        print('a between 5 an 12')\n",
    "    else:\n",
    "        print(' a is greater than 12')\n",
    "else:\n",
    "    print('a in less more than 5')"
   ]
  }
 ],
 "metadata": {
  "interpreter": {
   "hash": "916dbcbb3f70747c44a77c7bcd40155683ae19c65e1c03b4aa3499c5328201f1"
  },
  "kernelspec": {
   "display_name": "Python 3.10.4 64-bit",
   "language": "python",
   "name": "python3"
  },
  "language_info": {
   "codemirror_mode": {
    "name": "ipython",
    "version": 3
   },
   "file_extension": ".py",
   "mimetype": "text/x-python",
   "name": "python",
   "nbconvert_exporter": "python",
   "pygments_lexer": "ipython3",
   "version": "3.10.4"
  },
  "orig_nbformat": 4
 },
 "nbformat": 4,
 "nbformat_minor": 2
}
