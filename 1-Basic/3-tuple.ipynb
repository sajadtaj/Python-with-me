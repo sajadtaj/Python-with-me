{
 "cells": [
  {
   "cell_type": "markdown",
   "metadata": {},
   "source": [
    "## Tuple\n",
    "+  مانند لیست ها هستن با این تفاوت که فقط یکبار مقدار میگیرند\n",
    "+ امکان گرفتن مقدار مجدد را ندارند\n",
    "+ کاربرد برای لیست های که تغییر نمیکنند مثل \n",
    "    + ماه های سال\n",
    "    + ایام هفته\n",
    "    + ....\n",
    "\n",
    "+ دسترسی به تاپل ها دقیقا مانند لیسب ها می باشد\n"
   ]
  },
  {
   "cell_type": "markdown",
   "metadata": {},
   "source": []
  }
 ],
 "metadata": {
  "language_info": {
   "name": "python"
  },
  "orig_nbformat": 4
 },
 "nbformat": 4,
 "nbformat_minor": 2
}
