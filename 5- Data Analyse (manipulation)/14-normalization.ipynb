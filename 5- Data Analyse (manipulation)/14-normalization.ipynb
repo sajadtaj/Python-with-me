{
 "cells": [
  {
   "cell_type": "code",
   "execution_count": 2,
   "metadata": {},
   "outputs": [],
   "source": [
    "import pandas as pd\n",
    "import numpy as np\n",
    "import plotly.express as px \n",
    "df1 = pd.DataFrame(\n",
    "    {\n",
    "    'A':[1,2,3,4,12,25,45,85,45,45,78,54,1,25],\n",
    "    'B':[5,6,7,8,13,12,45,14,27,8,96,14,45,47],\n",
    "    }\n",
    ")"
   ]
  },
  {
   "cell_type": "markdown",
   "metadata": {},
   "source": [
    "## Normalization\n",
    "+   By sickit learn :\n",
    "+   +   MinMaxScaler\n",
    "+   +   StandardScaler"
   ]
  },
  {
   "cell_type": "code",
   "execution_count": 3,
   "metadata": {},
   "outputs": [],
   "source": [
    "from sklearn.preprocessing import (\n",
    "    MinMaxScaler as minmax,\n",
    "    StandardScaler as standard\n",
    " )"
   ]
  },
  {
   "cell_type": "code",
   "execution_count": 4,
   "metadata": {},
   "outputs": [
    {
     "data": {
      "text/plain": [
       "array([[0.        , 0.        ],\n",
       "       [0.01190476, 0.01098901],\n",
       "       [0.02380952, 0.02197802],\n",
       "       [0.03571429, 0.03296703],\n",
       "       [0.13095238, 0.08791209],\n",
       "       [0.28571429, 0.07692308],\n",
       "       [0.52380952, 0.43956044],\n",
       "       [1.        , 0.0989011 ],\n",
       "       [0.52380952, 0.24175824],\n",
       "       [0.52380952, 0.03296703],\n",
       "       [0.91666667, 1.        ],\n",
       "       [0.63095238, 0.0989011 ],\n",
       "       [0.        , 0.43956044],\n",
       "       [0.28571429, 0.46153846]])"
      ]
     },
     "execution_count": 4,
     "metadata": {},
     "output_type": "execute_result"
    }
   ],
   "source": [
    "mms = minmax()  # define class\n",
    "df_norm_minmax = mms.fit_transform(df1)\n",
    "df_norm_minmax"
   ]
  },
  {
   "cell_type": "markdown",
   "metadata": {},
   "source": [
    "##  حاصل دیتافریم نیست بلکه سری ارایه است آنرا به درون دیتا فریم میبریم\n",
    " "
   ]
  },
  {
   "cell_type": "code",
   "execution_count": 5,
   "metadata": {},
   "outputs": [
    {
     "data": {
      "text/html": [
       "<div>\n",
       "<style scoped>\n",
       "    .dataframe tbody tr th:only-of-type {\n",
       "        vertical-align: middle;\n",
       "    }\n",
       "\n",
       "    .dataframe tbody tr th {\n",
       "        vertical-align: top;\n",
       "    }\n",
       "\n",
       "    .dataframe thead th {\n",
       "        text-align: right;\n",
       "    }\n",
       "</style>\n",
       "<table border=\"1\" class=\"dataframe\">\n",
       "  <thead>\n",
       "    <tr style=\"text-align: right;\">\n",
       "      <th></th>\n",
       "      <th>A</th>\n",
       "      <th>B</th>\n",
       "    </tr>\n",
       "  </thead>\n",
       "  <tbody>\n",
       "    <tr>\n",
       "      <th>0</th>\n",
       "      <td>0.000000</td>\n",
       "      <td>0.000000</td>\n",
       "    </tr>\n",
       "    <tr>\n",
       "      <th>1</th>\n",
       "      <td>0.011905</td>\n",
       "      <td>0.010989</td>\n",
       "    </tr>\n",
       "    <tr>\n",
       "      <th>2</th>\n",
       "      <td>0.023810</td>\n",
       "      <td>0.021978</td>\n",
       "    </tr>\n",
       "    <tr>\n",
       "      <th>3</th>\n",
       "      <td>0.035714</td>\n",
       "      <td>0.032967</td>\n",
       "    </tr>\n",
       "    <tr>\n",
       "      <th>4</th>\n",
       "      <td>0.130952</td>\n",
       "      <td>0.087912</td>\n",
       "    </tr>\n",
       "    <tr>\n",
       "      <th>5</th>\n",
       "      <td>0.285714</td>\n",
       "      <td>0.076923</td>\n",
       "    </tr>\n",
       "    <tr>\n",
       "      <th>6</th>\n",
       "      <td>0.523810</td>\n",
       "      <td>0.439560</td>\n",
       "    </tr>\n",
       "    <tr>\n",
       "      <th>7</th>\n",
       "      <td>1.000000</td>\n",
       "      <td>0.098901</td>\n",
       "    </tr>\n",
       "    <tr>\n",
       "      <th>8</th>\n",
       "      <td>0.523810</td>\n",
       "      <td>0.241758</td>\n",
       "    </tr>\n",
       "    <tr>\n",
       "      <th>9</th>\n",
       "      <td>0.523810</td>\n",
       "      <td>0.032967</td>\n",
       "    </tr>\n",
       "    <tr>\n",
       "      <th>10</th>\n",
       "      <td>0.916667</td>\n",
       "      <td>1.000000</td>\n",
       "    </tr>\n",
       "    <tr>\n",
       "      <th>11</th>\n",
       "      <td>0.630952</td>\n",
       "      <td>0.098901</td>\n",
       "    </tr>\n",
       "    <tr>\n",
       "      <th>12</th>\n",
       "      <td>0.000000</td>\n",
       "      <td>0.439560</td>\n",
       "    </tr>\n",
       "    <tr>\n",
       "      <th>13</th>\n",
       "      <td>0.285714</td>\n",
       "      <td>0.461538</td>\n",
       "    </tr>\n",
       "  </tbody>\n",
       "</table>\n",
       "</div>"
      ],
      "text/plain": [
       "           A         B\n",
       "0   0.000000  0.000000\n",
       "1   0.011905  0.010989\n",
       "2   0.023810  0.021978\n",
       "3   0.035714  0.032967\n",
       "4   0.130952  0.087912\n",
       "5   0.285714  0.076923\n",
       "6   0.523810  0.439560\n",
       "7   1.000000  0.098901\n",
       "8   0.523810  0.241758\n",
       "9   0.523810  0.032967\n",
       "10  0.916667  1.000000\n",
       "11  0.630952  0.098901\n",
       "12  0.000000  0.439560\n",
       "13  0.285714  0.461538"
      ]
     },
     "execution_count": 5,
     "metadata": {},
     "output_type": "execute_result"
    }
   ],
   "source": [
    "df=pd.DataFrame(df_norm_minmax,columns=df1.columns)\n",
    "df"
   ]
  },
  {
   "cell_type": "markdown",
   "metadata": {},
   "source": [
    "## Standard Scale"
   ]
  },
  {
   "cell_type": "code",
   "execution_count": 9,
   "metadata": {},
   "outputs": [
    {
     "data": {
      "text/plain": [
       "array([[-1.0558438 , -0.80080215],\n",
       "       [-1.01987832, -0.7603284 ],\n",
       "       [-0.98391284, -0.71985464],\n",
       "       [-0.94794736, -0.67938089],\n",
       "       [-0.6602235 , -0.47701211],\n",
       "       [-0.19267223, -0.51748587],\n",
       "       [ 0.52663742,  0.81814805],\n",
       "       [ 1.96525671, -0.43653836],\n",
       "       [ 0.52663742,  0.08962046],\n",
       "       [ 0.52663742, -0.67938089],\n",
       "       [ 1.71349834,  2.88230956],\n",
       "       [ 0.85032676, -0.43653836],\n",
       "       [-1.0558438 ,  0.81814805],\n",
       "       [-0.19267223,  0.89909556]])"
      ]
     },
     "execution_count": 9,
     "metadata": {},
     "output_type": "execute_result"
    }
   ],
   "source": [
    "ss = standard()\n",
    "df_norm_standatd = ss.fit_transform(df1[['A','B']])\n",
    "df_norm_standatd"
   ]
  },
  {
   "cell_type": "code",
   "execution_count": null,
   "metadata": {},
   "outputs": [],
   "source": []
  }
 ],
 "metadata": {
  "interpreter": {
   "hash": "916dbcbb3f70747c44a77c7bcd40155683ae19c65e1c03b4aa3499c5328201f1"
  },
  "kernelspec": {
   "display_name": "Python 3.10.4 64-bit",
   "language": "python",
   "name": "python3"
  },
  "language_info": {
   "codemirror_mode": {
    "name": "ipython",
    "version": 3
   },
   "file_extension": ".py",
   "mimetype": "text/x-python",
   "name": "python",
   "nbconvert_exporter": "python",
   "pygments_lexer": "ipython3",
   "version": "3.10.4"
  },
  "orig_nbformat": 4
 },
 "nbformat": 4,
 "nbformat_minor": 2
}
