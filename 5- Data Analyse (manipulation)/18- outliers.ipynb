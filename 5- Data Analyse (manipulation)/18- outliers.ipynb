{
 "cells": [
  {
   "cell_type": "code",
   "execution_count": null,
   "metadata": {},
   "outputs": [],
   "source": [
    "import pandas as pd\n",
    "import numpy as np\n",
    "from scipy import stats\n",
    "\n",
    "\n",
    "# Method 1     Z SCORE\n",
    "outlier_remove_ZScore = Data[(np.abs(stats.zscore(Data['Value']) )< 3)]\n",
    "\n",
    "\n",
    "# Method 1     Quantile\n",
    "Q_high = Data['Value'].quantile(0.95)\n",
    "Q_low  = Data['Value'].quantile(0.05)\n",
    "\n",
    "outlier_remove_quantile = Data[(Data['Value']  >) & (Data['Value']< Q_high)]"
   ]
  }
 ],
 "metadata": {
  "language_info": {
   "name": "python"
  },
  "orig_nbformat": 4
 },
 "nbformat": 4,
 "nbformat_minor": 2
}
