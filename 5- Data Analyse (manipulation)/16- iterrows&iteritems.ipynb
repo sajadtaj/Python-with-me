{
 "cells": [
  {
   "cell_type": "code",
   "execution_count": 2,
   "metadata": {},
   "outputs": [],
   "source": [
    "import pandas as pd\n",
    "import numpy as np"
   ]
  },
  {
   "cell_type": "code",
   "execution_count": 9,
   "metadata": {},
   "outputs": [
    {
     "data": {
      "text/html": [
       "<div>\n",
       "<style scoped>\n",
       "    .dataframe tbody tr th:only-of-type {\n",
       "        vertical-align: middle;\n",
       "    }\n",
       "\n",
       "    .dataframe tbody tr th {\n",
       "        vertical-align: top;\n",
       "    }\n",
       "\n",
       "    .dataframe thead th {\n",
       "        text-align: right;\n",
       "    }\n",
       "</style>\n",
       "<table border=\"1\" class=\"dataframe\">\n",
       "  <thead>\n",
       "    <tr style=\"text-align: right;\">\n",
       "      <th></th>\n",
       "      <th>legs</th>\n",
       "      <th>wings</th>\n",
       "      <th>specimenseen</th>\n",
       "      <th>age</th>\n",
       "    </tr>\n",
       "  </thead>\n",
       "  <tbody>\n",
       "    <tr>\n",
       "      <th>falcon</th>\n",
       "      <td>2</td>\n",
       "      <td>2</td>\n",
       "      <td>10</td>\n",
       "      <td>12</td>\n",
       "    </tr>\n",
       "    <tr>\n",
       "      <th>dog</th>\n",
       "      <td>4</td>\n",
       "      <td>0</td>\n",
       "      <td>2</td>\n",
       "      <td>5</td>\n",
       "    </tr>\n",
       "    <tr>\n",
       "      <th>spider</th>\n",
       "      <td>8</td>\n",
       "      <td>0</td>\n",
       "      <td>1</td>\n",
       "      <td>14</td>\n",
       "    </tr>\n",
       "    <tr>\n",
       "      <th>fish</th>\n",
       "      <td>0</td>\n",
       "      <td>0</td>\n",
       "      <td>8</td>\n",
       "      <td>5</td>\n",
       "    </tr>\n",
       "    <tr>\n",
       "      <th>goril</th>\n",
       "      <td>2</td>\n",
       "      <td>1</td>\n",
       "      <td>5</td>\n",
       "      <td>3</td>\n",
       "    </tr>\n",
       "    <tr>\n",
       "      <th>human</th>\n",
       "      <td>3</td>\n",
       "      <td>0</td>\n",
       "      <td>8</td>\n",
       "      <td>8</td>\n",
       "    </tr>\n",
       "    <tr>\n",
       "      <th>snake</th>\n",
       "      <td>6</td>\n",
       "      <td>5</td>\n",
       "      <td>9</td>\n",
       "      <td>9</td>\n",
       "    </tr>\n",
       "  </tbody>\n",
       "</table>\n",
       "</div>"
      ],
      "text/plain": [
       "        legs  wings  specimenseen  age\n",
       "falcon     2      2            10   12\n",
       "dog        4      0             2    5\n",
       "spider     8      0             1   14\n",
       "fish       0      0             8    5\n",
       "goril      2      1             5    3\n",
       "human      3      0             8    8\n",
       "snake      6      5             9    9"
      ]
     },
     "execution_count": 9,
     "metadata": {},
     "output_type": "execute_result"
    }
   ],
   "source": [
    "df = pd.DataFrame({'legs': [2, 4, 8, 0,2,3,6],\n",
    "                   'wings': [2, 0, 0, 0,1,0,5],\n",
    "                   'specimenseen': [10, 2, 1, 8,5,8,9],\n",
    "                   'age':[12,5,14,5,3,8,9]},\n",
    "                    index=['falcon', 'dog', 'spider', 'fish','goril','human','snake'])\n",
    "df"
   ]
  },
  {
   "cell_type": "markdown",
   "metadata": {},
   "source": [
    "### iterrows:\n",
    "#### return :\n",
    "+        1- Row Index\n",
    "+        2- Row Object "
   ]
  },
  {
   "cell_type": "code",
   "execution_count": 5,
   "metadata": {},
   "outputs": [
    {
     "name": "stdout",
     "output_type": "stream",
     "text": [
      "falcon\n",
      "----------\n",
      "legs              2\n",
      "wings             2\n",
      "specimen seen    10\n",
      "Name: falcon, dtype: int64\n",
      "----------\n",
      "dog\n",
      "----------\n",
      "legs             4\n",
      "wings            0\n",
      "specimen seen    2\n",
      "Name: dog, dtype: int64\n",
      "----------\n",
      "spider\n",
      "----------\n",
      "legs             8\n",
      "wings            0\n",
      "specimen seen    1\n",
      "Name: spider, dtype: int64\n",
      "----------\n",
      "fish\n",
      "----------\n",
      "legs             0\n",
      "wings            0\n",
      "specimen seen    8\n",
      "Name: fish, dtype: int64\n",
      "----------\n"
     ]
    }
   ],
   "source": [
    "for index  ,data in df.iterrows():\n",
    "    print( index)\n",
    "    print('--'*5)\n",
    "    print(data)\n",
    "    print('--'*5)\n"
   ]
  },
  {
   "cell_type": "markdown",
   "metadata": {},
   "source": [
    "### Iteritems\n",
    "#### return :\n",
    "+  1- label as key                -> col name\n",
    "+  2- col value as series object  -> col data\n"
   ]
  },
  {
   "cell_type": "code",
   "execution_count": 6,
   "metadata": {},
   "outputs": [
    {
     "name": "stdout",
     "output_type": "stream",
     "text": [
      "legs\n",
      "----------\n",
      "falcon    2\n",
      "dog       4\n",
      "spider    8\n",
      "fish      0\n",
      "Name: legs, dtype: int64\n",
      "----------\n",
      "wings\n",
      "----------\n",
      "falcon    2\n",
      "dog       0\n",
      "spider    0\n",
      "fish      0\n",
      "Name: wings, dtype: int64\n",
      "----------\n",
      "specimen seen\n",
      "----------\n",
      "falcon    10\n",
      "dog        2\n",
      "spider     1\n",
      "fish       8\n",
      "Name: specimen seen, dtype: int64\n",
      "----------\n"
     ]
    }
   ],
   "source": [
    "for col_name,col_data in df.iteritems():\n",
    "    print( col_name)\n",
    "    print('--'*5)\n",
    "    print(col_data)\n",
    "    print('--'*5)"
   ]
  },
  {
   "cell_type": "markdown",
   "metadata": {},
   "source": [
    "### itertuples\n",
    "#### return :\n",
    "+ tuples for each row"
   ]
  },
  {
   "cell_type": "code",
   "execution_count": 10,
   "metadata": {},
   "outputs": [
    {
     "name": "stdout",
     "output_type": "stream",
     "text": [
      "Pandas(Index='falcon', legs=2, wings=2, specimenseen=10, age=12)\n",
      "Pandas(Index='dog', legs=4, wings=0, specimenseen=2, age=5)\n",
      "Pandas(Index='spider', legs=8, wings=0, specimenseen=1, age=14)\n",
      "Pandas(Index='fish', legs=0, wings=0, specimenseen=8, age=5)\n",
      "Pandas(Index='goril', legs=2, wings=1, specimenseen=5, age=3)\n",
      "Pandas(Index='human', legs=3, wings=0, specimenseen=8, age=8)\n",
      "Pandas(Index='snake', legs=6, wings=5, specimenseen=9, age=9)\n"
     ]
    }
   ],
   "source": [
    "for i in df.itertuples():\n",
    "    print(i)"
   ]
  }
 ],
 "metadata": {
  "interpreter": {
   "hash": "916dbcbb3f70747c44a77c7bcd40155683ae19c65e1c03b4aa3499c5328201f1"
  },
  "kernelspec": {
   "display_name": "Python 3.10.4 64-bit",
   "language": "python",
   "name": "python3"
  },
  "language_info": {
   "codemirror_mode": {
    "name": "ipython",
    "version": 3
   },
   "file_extension": ".py",
   "mimetype": "text/x-python",
   "name": "python",
   "nbconvert_exporter": "python",
   "pygments_lexer": "ipython3",
   "version": "3.10.4"
  },
  "orig_nbformat": 4
 },
 "nbformat": 4,
 "nbformat_minor": 2
}
