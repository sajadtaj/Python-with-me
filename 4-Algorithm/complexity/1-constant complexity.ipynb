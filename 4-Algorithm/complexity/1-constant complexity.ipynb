{
 "cells": [
  {
   "cell_type": "markdown",
   "metadata": {},
   "source": [
    "## Constant Complexity\n",
    " + O(1)   : زمان ثابت: سریع ترین الگوریتم هت هستند\n",
    "+ O : number of Operations\n",
    "+ (1) : numbers of inputs :یک درونرانتز یک نماد هست و به معنی یک ورودی نیست ابدا\n",
    "+ تعداد عملیات ها فارغ از تعداد ورودی است"
   ]
  },
  {
   "cell_type": "markdown",
   "metadata": {},
   "source": [
    "زمانی که تعداد زیاد ورودی هیچ تاثیر روی پیچیدگی زمانی آن ندارد:\n",
    "\n",
    "وقتی الگوریتم فقط بایک مورد خاص یا تعداد مشخصی از ورودی کار دارد. مثلا میخواهد بفهمد عدد ابتدای لیست ایا زوج یا فرد است؟\n",
    "\n"
   ]
  },
  {
   "cell_type": "code",
   "execution_count": 1,
   "metadata": {},
   "outputs": [],
   "source": [
    "def show(list):\n",
    "    if list[0]%2==0:\n",
    "        print('Even')\n",
    "    else:\n",
    "        print('Odd')\n",
    "\n",
    "l = [2,4,5,6,9,8]\n",
    "e=[1,2,5,8,9,7,1,2,4,8,5,6,9,8,7,\n",
    "8,5,12,45,47,558,45,85,47,85,85,\n",
    "47,5,17,5,2,5,4,585,4,55,8,4,5,5\n",
    ",8,5,4,5,8,85,4,5,5,8,5,15,4,84,154\n",
    ",1,4,4,84,89,486,48,468,49,84,84,9]"
   ]
  },
  {
   "cell_type": "code",
   "execution_count": 2,
   "metadata": {},
   "outputs": [
    {
     "name": "stdout",
     "output_type": "stream",
     "text": [
      "Even\n",
      "CPU times: user 2.81 ms, sys: 272 µs, total: 3.09 ms\n",
      "Wall time: 4.08 ms\n"
     ]
    }
   ],
   "source": [
    "%%time\n",
    "show(l)"
   ]
  },
  {
   "cell_type": "code",
   "execution_count": 3,
   "metadata": {},
   "outputs": [
    {
     "name": "stdout",
     "output_type": "stream",
     "text": [
      "Odd\n",
      "CPU times: user 105 µs, sys: 10 µs, total: 115 µs\n",
      "Wall time: 121 µs\n"
     ]
    }
   ],
   "source": [
    "%%time\n",
    "show(e)"
   ]
  },
  {
   "cell_type": "code",
   "execution_count": null,
   "metadata": {},
   "outputs": [],
   "source": []
  }
 ],
 "metadata": {
  "kernelspec": {
   "display_name": "Python 3.10.6 64-bit",
   "language": "python",
   "name": "python3"
  },
  "language_info": {
   "codemirror_mode": {
    "name": "ipython",
    "version": 3
   },
   "file_extension": ".py",
   "mimetype": "text/x-python",
   "name": "python",
   "nbconvert_exporter": "python",
   "pygments_lexer": "ipython3",
   "version": "3.10.4"
  },
  "orig_nbformat": 4,
  "vscode": {
   "interpreter": {
    "hash": "4000d5fabbf16d46b8685b20ddb4f1205c9618754029a947dbb2cc2ce311cc0f"
   }
  }
 },
 "nbformat": 4,
 "nbformat_minor": 2
}
