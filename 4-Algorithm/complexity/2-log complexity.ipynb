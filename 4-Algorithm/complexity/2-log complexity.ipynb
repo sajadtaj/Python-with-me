{
 "cells": [
  {
   "cell_type": "markdown",
   "metadata": {},
   "source": [
    "## Logarithm Time\n",
    "+ O(log n)\n",
    "\n",
    "با هر بار اجرای برنامه زمان اجرای آن نصف میگردد:\n",
    "زمانی که طول میکشد تا الگوریتم به جواب برسد با هر باری اجرای الگوریتم نصف میگردد.\n",
    "\n",
    "تعداد عملیات ها که باید اجرا گردد هر بار نصف می شود"
   ]
  },
  {
   "cell_type": "code",
   "execution_count": 1,
   "metadata": {},
   "outputs": [],
   "source": [
    "# ordered List\n",
    "nums =[1,2,4,6,8,10,15,18,20,24,26,29,30,35,38,39,42,45,48,51]"
   ]
  },
  {
   "cell_type": "markdown",
   "metadata": {},
   "source": [
    "یافتن مقدار مشخصی در لیست بالا از طریق هر بار نصف کردن مجموعه"
   ]
  },
  {
   "cell_type": "markdown",
   "metadata": {},
   "source": [
    "+ Binary Search:\n",
    "+ برای یافتن مقدر مشخص هر باط طول مجموعه را نصق میکند"
   ]
  },
  {
   "cell_type": "code",
   "execution_count": 1,
   "metadata": {},
   "outputs": [],
   "source": [
    "def binary_search(array,ele):\n",
    "    low,high = 0, len(array)-1\n",
    "    while low <= high:\n",
    "        mid = (high + low)//2\n",
    "        vol=array[mid]\n",
    "        \n",
    "        if  vol == ele:\n",
    "            return mid\n",
    "        elif vol < ele:\n",
    "            low = mid\n",
    "        elif vol > ele:\n",
    "            high = mid\n",
    "    return None"
   ]
  },
  {
   "cell_type": "code",
   "execution_count": 2,
   "metadata": {},
   "outputs": [
    {
     "data": {
      "text/plain": [
       "26"
      ]
     },
     "execution_count": 2,
     "metadata": {},
     "output_type": "execute_result"
    }
   ],
   "source": [
    "arr =[1,2,3,4,5,6,7,8,9,10,25,26,28,29,34,35,38,39,41,42,43,44,45,48,49,52,53,54,58,59,60,61,62,63,64,65,67,68,69,70]\n",
    "binary_search(arr,53)"
   ]
  },
  {
   "cell_type": "code",
   "execution_count": null,
   "metadata": {},
   "outputs": [],
   "source": []
  }
 ],
 "metadata": {
  "kernelspec": {
   "display_name": "Python 3.10.6 64-bit",
   "language": "python",
   "name": "python3"
  },
  "language_info": {
   "codemirror_mode": {
    "name": "ipython",
    "version": 3
   },
   "file_extension": ".py",
   "mimetype": "text/x-python",
   "name": "python",
   "nbconvert_exporter": "python",
   "pygments_lexer": "ipython3",
   "version": "3.10.4"
  },
  "orig_nbformat": 4,
  "vscode": {
   "interpreter": {
    "hash": "4000d5fabbf16d46b8685b20ddb4f1205c9618754029a947dbb2cc2ce311cc0f"
   }
  }
 },
 "nbformat": 4,
 "nbformat_minor": 2
}
