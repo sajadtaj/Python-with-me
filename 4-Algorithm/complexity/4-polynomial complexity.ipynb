{
 "cells": [
  {
   "cell_type": "markdown",
   "metadata": {},
   "source": [
    "## Ploymomial Time Complexity\n",
    "+ O(n^m)\n",
    "+ زمانی که ورودی بایستی چندباره پردازش گردد\n",
    "+ m=1 : حالبت خطی :وقیتی دادههای ورودی بایستی یکبار پیمایش گردد\n",
    "+ m=2 : وقتی داده های ورودی بایستی چند بار پیمایش گردد\n",
    "+ m=m : وقتی داده های ورودی بایستی ان تعداد بار پیمایش گردد\n",
    "+ با بیشتر شدن آن زمان آن بسیار بیشتر میگردد."
   ]
  },
  {
   "cell_type": "markdown",
   "metadata": {},
   "source": [
    "#### Example \n",
    "+ Bubbl-sort : O(n^2)"
   ]
  },
  {
   "cell_type": "markdown",
   "metadata": {},
   "source": []
  }
 ],
 "metadata": {
  "kernelspec": {
   "display_name": "Python 3.10.6 64-bit",
   "language": "python",
   "name": "python3"
  },
  "language_info": {
   "name": "python",
   "version": "3.10.6"
  },
  "orig_nbformat": 4,
  "vscode": {
   "interpreter": {
    "hash": "4000d5fabbf16d46b8685b20ddb4f1205c9618754029a947dbb2cc2ce311cc0f"
   }
  }
 },
 "nbformat": 4,
 "nbformat_minor": 2
}
