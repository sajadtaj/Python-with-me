{
 "cells": [
  {
   "cell_type": "markdown",
   "metadata": {},
   "source": [
    "## Complexity\n",
    "+ Time\n",
    "+ Space"
   ]
  },
  {
   "cell_type": "markdown",
   "metadata": {},
   "source": [
    "### عوامل زیر موجب تغییر بحث زمان و فضا می شود\n",
    "+ با داده های متفاوت\n",
    "+ تعداد داده های متفاوت\n",
    "+ با سیستم عامل ها متفاوت\n",
    "+ با برنامه های متفاوت (c ,c++, pythn,java)\n"
   ]
  },
  {
   "cell_type": "markdown",
   "metadata": {},
   "source": [
    "## بهترین روش اندازه گیری پیچیدگی:\n",
    "### Big O notation"
   ]
  },
  {
   "cell_type": "code",
   "execution_count": null,
   "metadata": {},
   "outputs": [],
   "source": []
  }
 ],
 "metadata": {
  "language_info": {
   "name": "python"
  },
  "orig_nbformat": 4
 },
 "nbformat": 4,
 "nbformat_minor": 2
}
