{
 "cells": [
  {
   "cell_type": "markdown",
   "metadata": {},
   "source": [
    "\"\"\"\n",
    "Implement Flatten Arrays.\n",
    "Given an array that may contain nested arrays,\n",
    "produce a single resultant array.\n",
    "\"\"\""
   ]
  },
  {
   "cell_type": "code",
   "execution_count": 1,
   "metadata": {},
   "outputs": [],
   "source": [
    "from collections.abc import Iterable"
   ]
  },
  {
   "cell_type": "markdown",
   "metadata": {},
   "source": [
    "## return list"
   ]
  },
  {
   "cell_type": "code",
   "execution_count": 2,
   "metadata": {},
   "outputs": [],
   "source": [
    "def flatten(input_arr , output_arr=None):\n",
    "    if output_arr is None:\n",
    "        output_arr = []\n",
    "    for ele in input_arr:\n",
    "        if not isinstance(ele,str) and isinstance(ele ,Iterable):\n",
    "            flatten(ele , output_arr)\n",
    "        else :\n",
    "            output_arr.append(ele)\n",
    "    return output_arr"
   ]
  },
  {
   "cell_type": "markdown",
   "metadata": {},
   "source": [
    "## Example"
   ]
  },
  {
   "cell_type": "code",
   "execution_count": 3,
   "metadata": {},
   "outputs": [
    {
     "data": {
      "text/plain": [
       "[1, 2, 5, 2, 5, 9, 3, 6, 9]"
      ]
     },
     "execution_count": 3,
     "metadata": {},
     "output_type": "execute_result"
    }
   ],
   "source": [
    "arr=[[1,2,5],[2,5,9],[3,6,9]]\n",
    "flatten(arr)"
   ]
  },
  {
   "cell_type": "code",
   "execution_count": 4,
   "metadata": {},
   "outputs": [],
   "source": [
    "arr1 =[[1,2,5],[2,5,9],[3,1,5,6,7,8,9,6,9]]"
   ]
  },
  {
   "cell_type": "code",
   "execution_count": 5,
   "metadata": {},
   "outputs": [
    {
     "data": {
      "text/plain": [
       "[1, 2, 5, 2, 5, 9, 3, 1, 5, 6, 7, 8, 9, 6, 9]"
      ]
     },
     "execution_count": 5,
     "metadata": {},
     "output_type": "execute_result"
    }
   ],
   "source": [
    "flatten(arr1)"
   ]
  },
  {
   "cell_type": "code",
   "execution_count": 6,
   "metadata": {},
   "outputs": [
    {
     "data": {
      "text/plain": [
       "['h', 'e', 'l', 'l', 'o', ' ', 'e', 'v', 'e', 'r', 'y']"
      ]
     },
     "execution_count": 6,
     "metadata": {},
     "output_type": "execute_result"
    }
   ],
   "source": [
    "arr0 ='hello every'\n",
    "flatten(arr0)"
   ]
  },
  {
   "cell_type": "code",
   "execution_count": 7,
   "metadata": {},
   "outputs": [
    {
     "data": {
      "text/plain": [
       "['hello every']"
      ]
     },
     "execution_count": 7,
     "metadata": {},
     "output_type": "execute_result"
    }
   ],
   "source": [
    "arr0 =['hello every']\n",
    "flatten(arr0)"
   ]
  },
  {
   "cell_type": "code",
   "execution_count": 8,
   "metadata": {},
   "outputs": [
    {
     "data": {
      "text/plain": [
       "[1, 2, 3, 5, 5, 1, 2, 3]"
      ]
     },
     "execution_count": 8,
     "metadata": {},
     "output_type": "execute_result"
    }
   ],
   "source": [
    "arr0 =[[[[1,2,3,5,5]]],[1,2,3]]\n",
    "flatten(arr0)"
   ]
  },
  {
   "cell_type": "code",
   "execution_count": 9,
   "metadata": {},
   "outputs": [
    {
     "data": {
      "text/plain": [
       "[1, 1, 2, 3, 'hi']"
      ]
     },
     "execution_count": 9,
     "metadata": {},
     "output_type": "execute_result"
    }
   ],
   "source": [
    "arr0 =[[[[1,]]],[1,2,3],'hi']\n",
    "flatten(arr0)"
   ]
  },
  {
   "cell_type": "code",
   "execution_count": 12,
   "metadata": {},
   "outputs": [
    {
     "data": {
      "text/plain": [
       "[1, 1, 2, 3, 'hello']"
      ]
     },
     "execution_count": 12,
     "metadata": {},
     "output_type": "execute_result"
    }
   ],
   "source": [
    "arr0 =[[[[1,]]],[1,2,3]],'hello'\n",
    "flatten(arr0)"
   ]
  },
  {
   "cell_type": "markdown",
   "metadata": {},
   "source": [
    "## Spilit the Code"
   ]
  },
  {
   "cell_type": "code",
   "execution_count": 30,
   "metadata": {},
   "outputs": [],
   "source": [
    "#1 def flatten(input_arr , output_arr=None):\n",
    "#2     if output_arr is None:\n",
    "#3         output_arr =[]\n",
    "#4     for ele in input_arr:\n",
    "#5         if not isinstance(ele,str) and isinstance(ele ,Iterable):\n",
    "#6             flatten(ele , output_arr)\n",
    "#7         else :\n",
    "#8             output_arr.append(ele)\n",
    "#9     return output_arr"
   ]
  },
  {
   "cell_type": "code",
   "execution_count": 31,
   "metadata": {},
   "outputs": [
    {
     "name": "stdout",
     "output_type": "stream",
     "text": [
      "[1, 2, 5]\n",
      "[2, 5, 9]\n",
      "[3, 1, 5, 6, 7, 8, 9, 6, 9]\n"
     ]
    }
   ],
   "source": [
    "#4\n",
    "# arr1 =[[1,2,5],[2,5,9],[3,1,5,6,7,8,9,6,9]]\n",
    "for ele in arr1:\n",
    "    print(ele)"
   ]
  },
  {
   "cell_type": "code",
   "execution_count": 32,
   "metadata": {},
   "outputs": [
    {
     "name": "stdout",
     "output_type": "stream",
     "text": [
      "[1, 2, 5, [1, 2]]\n",
      "[2, 5, 9]\n",
      "[3, 1, 5, 6, 7, 8, 9, 6, 9]\n"
     ]
    }
   ],
   "source": [
    "#4\n",
    "arr2 =[[1,2,5,[1,2]],[2,5,9],[3,1,5,6,7,8,9,6,9]]\n",
    "for ele in arr1:\n",
    "    print(ele)"
   ]
  },
  {
   "cell_type": "code",
   "execution_count": 14,
   "metadata": {},
   "outputs": [
    {
     "name": "stdout",
     "output_type": "stream",
     "text": [
      "state 2\n",
      "state 2\n",
      "state 2\n"
     ]
    }
   ],
   "source": [
    "arr1 =[[1,2,5],[2,5,9],[3,1,5,6,7,8,9,6,9]]\n",
    "for ele in arr1:\n",
    "    if isinstance(ele,str) :\n",
    "        print('state 1')\n",
    "    elif isinstance(ele ,Iterable):\n",
    "        print('state 2')\n",
    "    else :\n",
    "        print('state 3')"
   ]
  },
  {
   "cell_type": "code",
   "execution_count": 15,
   "metadata": {},
   "outputs": [
    {
     "name": "stdout",
     "output_type": "stream",
     "text": [
      "state 1\n"
     ]
    }
   ],
   "source": [
    "arr3=['hello']\n",
    "for ele in arr3:\n",
    "    if  isinstance(ele,str) :\n",
    "        print('state 1')\n",
    "    elif isinstance(ele ,Iterable):\n",
    "        print('state 2')\n",
    "    else :\n",
    "        print('state 3')"
   ]
  },
  {
   "cell_type": "code",
   "execution_count": 17,
   "metadata": {},
   "outputs": [
    {
     "name": "stdout",
     "output_type": "stream",
     "text": [
      "state 1\n",
      "state 1\n",
      "state 1\n",
      "state 1\n",
      "state 1\n"
     ]
    }
   ],
   "source": [
    "arr3='hello'\n",
    "for ele in arr3:\n",
    "    if  isinstance(ele,str) :\n",
    "        print('state 1')\n",
    "    elif isinstance(ele ,Iterable):\n",
    "        print('state 2')\n",
    "    else :\n",
    "        print('state 3')"
   ]
  },
  {
   "cell_type": "code",
   "execution_count": 18,
   "metadata": {},
   "outputs": [
    {
     "name": "stdout",
     "output_type": "stream",
     "text": [
      "state 3\n",
      "state 3\n",
      "state 3\n"
     ]
    }
   ],
   "source": [
    "arr4=[2,3,5]\n",
    "for ele in arr4:\n",
    "    if  isinstance(ele,str) :\n",
    "        print('state 1')\n",
    "    elif isinstance(ele ,Iterable):\n",
    "        print('state 2')\n",
    "    else :\n",
    "        print('state 3')"
   ]
  },
  {
   "cell_type": "markdown",
   "metadata": {},
   "source": [
    "## Iterables\n",
    "### Definition:\n",
    "An iterable is any Python object capable of returning its members one at a time, permitting it to be iterated over in a for-loop."
   ]
  },
  {
   "cell_type": "code",
   "execution_count": 19,
   "metadata": {},
   "outputs": [
    {
     "name": "stdout",
     "output_type": "stream",
     "text": [
      "state 3\n",
      "state 3\n",
      "state 2\n"
     ]
    }
   ],
   "source": [
    "arr5= [1,2,[1,2,3]]\n",
    "for ele in arr5:\n",
    "    if isinstance(ele ,Iterable):\n",
    "        print('state 2')\n",
    "    else :\n",
    "        print('state 3')"
   ]
  },
  {
   "cell_type": "code",
   "execution_count": 20,
   "metadata": {},
   "outputs": [
    {
     "name": "stdout",
     "output_type": "stream",
     "text": [
      "state 2\n"
     ]
    }
   ],
   "source": [
    "arr6=[[[[1]]]]\n",
    "for ele in arr6:\n",
    "    if isinstance(ele ,Iterable):\n",
    "        print('state 2')\n",
    "    else :\n",
    "        print('state 3')"
   ]
  },
  {
   "cell_type": "code",
   "execution_count": 24,
   "metadata": {},
   "outputs": [
    {
     "name": "stdout",
     "output_type": "stream",
     "text": [
      "state 2\n",
      "state 2\n"
     ]
    }
   ],
   "source": [
    "arr6=[[[[1,2,3]],[1,2,6]],[1,2,5,6,9]]   ,    [1,3]\n",
    "for ele in arr6:\n",
    "    if isinstance(ele ,Iterable):\n",
    "        print('state 2')\n",
    "    else :\n",
    "        print('state 3')"
   ]
  },
  {
   "cell_type": "code",
   "execution_count": 25,
   "metadata": {},
   "outputs": [
    {
     "name": "stdout",
     "output_type": "stream",
     "text": [
      "state 2\n"
     ]
    }
   ],
   "source": [
    "arr6=[[[[1,2,3]],2,3,5]]\n",
    "for ele in arr6:\n",
    "    if isinstance(ele ,Iterable):\n",
    "        print('state 2')\n",
    "    else :\n",
    "        print('state 3')"
   ]
  },
  {
   "cell_type": "code",
   "execution_count": null,
   "metadata": {},
   "outputs": [],
   "source": []
  }
 ],
 "metadata": {
  "kernelspec": {
   "display_name": "Python ('LearnEnv')",
   "language": "python",
   "name": "python3"
  },
  "language_info": {
   "codemirror_mode": {
    "name": "ipython",
    "version": 3
   },
   "file_extension": ".py",
   "mimetype": "text/x-python",
   "name": "python",
   "nbconvert_exporter": "python",
   "pygments_lexer": "ipython3",
   "version": "3.10.4"
  },
  "orig_nbformat": 4,
  "vscode": {
   "interpreter": {
    "hash": "25a19fbe0a9132dfb9279d48d161753c6352f8f9478c2e74383d340069b907c3"
   }
  }
 },
 "nbformat": 4,
 "nbformat_minor": 2
}
