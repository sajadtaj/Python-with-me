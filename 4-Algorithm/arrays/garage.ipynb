{
 "cells": [
  {
   "cell_type": "markdown",
   "metadata": {},
   "source": [
    "## Subject"
   ]
  },
  {
   "cell_type": "code",
   "execution_count": null,
   "metadata": {},
   "outputs": [],
   "source": [
    "\"\"\"\n",
    "There is a parking lot with only one empty spot. Given the initial state\n",
    "of the parking lot and the final state. Each step we are only allowed to\n",
    "move a car out of its place and move it into the empty spot.\n",
    "\n",
    "The goal is to find out the least movement needed to rearrange\n",
    "the parking lot from the initial state to the final state.\n",
    "\n",
    "Say the initial state is an array:\n",
    "[1, 2, 3, 0, 4],\n",
    "where 1, 2, 3, 4 are different cars, and 0 is the empty spot.\n",
    "And the final state is\n",
    "[0, 3, 2, 1, 4].\n",
    "\n",
    "We can swap 1 with 0 in the initial array to get [0, 2, 3, 1, 4] and so on.\n",
    "Each step swap with 0 only.\n",
    "\n",
    "Edit:\n",
    "Now also prints the sequence of changes in states.\n",
    "Output of this example :-\n",
    "initial: [1, 2, 3, 0, 4]\n",
    "final:   [0, 3, 2, 1, 4]\n",
    "\n",
    "Steps =  4\n",
    "\n",
    "Sequence : \n",
    "0 2 3 1 4\n",
    "2 0 3 1 4\n",
    "2 3 0 1 4\n",
    "0 3 2 1 4\n",
    "\"\"\""
   ]
  },
  {
   "cell_type": "markdown",
   "metadata": {},
   "source": [
    "## Algorithm"
   ]
  },
  {
   "cell_type": "code",
   "execution_count": 106,
   "metadata": {},
   "outputs": [],
   "source": [
    "def garage(initial,final):\n",
    "    initial = initial[::]\n",
    "    seq = []\n",
    "    steps = 0\n",
    "    while initial != final:\n",
    "        zero = initial.index(0)         # find place emity Parking in this each step\n",
    "        if zero != final.index(0):      # init empity Place != final empity Place -> so move the car\n",
    "            car_to_move = final[zero]   # wich car from init will go to empity\n",
    "            pos = initial.index(car_to_move)  # Find place of a car that find in previous step in init\n",
    "            initial[zero],initial[pos] = initial[pos],initial[zero]  # Car go to empity park \n",
    "        else :   # init empity Place = final empity Place \n",
    "            for i in range(len(initial)):   \n",
    "                if initial[i] != final[i]:  # find place with deffernt car in init and final -> car must go to emity place\n",
    "                    initial[zero],initial[i]= initial[i],initial[zero]\n",
    "                    break\n",
    "        seq.append(initial[::]) \n",
    "        steps += 1\n",
    "    return steps,seq"
   ]
  },
  {
   "cell_type": "markdown",
   "metadata": {},
   "source": [
    "## Example"
   ]
  },
  {
   "cell_type": "code",
   "execution_count": 107,
   "metadata": {},
   "outputs": [
    {
     "data": {
      "text/plain": [
       "(4, [[0, 2, 4, 1], [2, 0, 4, 1], [2, 4, 0, 1], [2, 4, 1, 0]])"
      ]
     },
     "execution_count": 107,
     "metadata": {},
     "output_type": "execute_result"
    }
   ],
   "source": [
    "init = [1,2,4,0]\n",
    "final = [2,4,1,0]\n",
    "\n",
    "garage(initial=init,final=final)"
   ]
  },
  {
   "cell_type": "code",
   "execution_count": 108,
   "metadata": {},
   "outputs": [
    {
     "data": {
      "text/plain": [
       "(4, [[1, 3, 2, 0], [0, 3, 2, 1], [2, 3, 0, 1], [2, 3, 1, 0]])"
      ]
     },
     "execution_count": 108,
     "metadata": {},
     "output_type": "execute_result"
    }
   ],
   "source": [
    "init = [1,0,2,3]\n",
    "final = [2,3,1,0]\n",
    "garage(initial=init,final=final)"
   ]
  },
  {
   "cell_type": "markdown",
   "metadata": {},
   "source": [
    "## Spilit Code"
   ]
  },
  {
   "cell_type": "code",
   "execution_count": 109,
   "metadata": {},
   "outputs": [
    {
     "data": {
      "text/plain": [
       "[1, 2, 10, 0, 4]"
      ]
     },
     "execution_count": 109,
     "metadata": {},
     "output_type": "execute_result"
    }
   ],
   "source": [
    "initial=[1,2,10,0,4]\n",
    "final=[0,3,2,1,4]\n",
    "initial = initial[::]\n",
    "initial"
   ]
  },
  {
   "cell_type": "code",
   "execution_count": 110,
   "metadata": {},
   "outputs": [
    {
     "data": {
      "text/plain": [
       "3"
      ]
     },
     "execution_count": 110,
     "metadata": {},
     "output_type": "execute_result"
    }
   ],
   "source": [
    "# return place of 0\n",
    "zero = initial.index(0)\n",
    "zero"
   ]
  },
  {
   "cell_type": "code",
   "execution_count": 111,
   "metadata": {},
   "outputs": [
    {
     "data": {
      "text/plain": [
       "1"
      ]
     },
     "execution_count": 111,
     "metadata": {},
     "output_type": "execute_result"
    }
   ],
   "source": [
    "# return 3th element  -> zero = 3\n",
    "final[zero]"
   ]
  },
  {
   "cell_type": "code",
   "execution_count": 104,
   "metadata": {},
   "outputs": [],
   "source": [
    "def garage(initial,final):\n",
    "    initial = initial[::]\n",
    "    seq = []\n",
    "    steps = 0\n",
    "    print(f'init state {initial} \\n','**'*25)\n",
    "    while initial != final:\n",
    "        zero = initial.index(0)         # find place emity Parking in this each step\n",
    "        if zero != final.index(0):      # init empity Place != final empity Place -> so move the car\n",
    "            print(steps,'th :->  !=')\n",
    "            car_to_move = final[zero]   # wich car from init will go to empity\n",
    "            pos = initial.index(car_to_move)  # Find place of a car that find in previous step in init\n",
    "            print(f'{car_to_move} must go to place {initial.index(0)+1}' )\n",
    "            print(f'previous {initial}')\n",
    "            initial[zero],initial[pos] = initial[pos],initial[zero]  # Car go to empity park \n",
    "            print(f'new state{initial} \\nfinal state{final}\\n','**'*10)\n",
    "        else :   # init empity Place = final empity Place \n",
    "            print(steps,'th :->  =')\n",
    "            for i in range(len(initial)):  \n",
    "                print(f'previous {initial}') \n",
    "                if initial[i] != final[i]:  # find place with deffernt car in init and final -> car must go to emity place\n",
    "                    print(f'{initial[i]} must go to place {initial[zero]+1}')\n",
    "                    initial[zero],initial[i]= initial[i],initial[zero]\n",
    "                    print(f'new state{initial} \\nfinal state{final}\\n','**'*10)\n",
    "                    break\n",
    "        seq.append(initial[::]) \n",
    "        steps += 1\n",
    "    return steps,seq"
   ]
  },
  {
   "cell_type": "code",
   "execution_count": 105,
   "metadata": {},
   "outputs": [
    {
     "name": "stdout",
     "output_type": "stream",
     "text": [
      "init state ['BENZ', 'BMW', 'BENTLI', 0] \n",
      " **************************************************\n",
      "0 th :->  !=\n",
      "BMW must go to place 4\n",
      "previous ['BENZ', 'BMW', 'BENTLI', 0]\n",
      "new state['BENZ', 0, 'BENTLI', 'BMW'] \n",
      "final state['BENTLI', 0, 'BENZ', 'BMW']\n",
      " ********************\n",
      "1 th :->  =\n",
      "previous ['BENZ', 0, 'BENTLI', 'BMW']\n",
      "BENZ must go to place 1\n",
      "new state[0, 'BENZ', 'BENTLI', 'BMW'] \n",
      "final state['BENTLI', 0, 'BENZ', 'BMW']\n",
      " ********************\n",
      "2 th :->  !=\n",
      "BENTLI must go to place 1\n",
      "previous [0, 'BENZ', 'BENTLI', 'BMW']\n",
      "new state['BENTLI', 'BENZ', 0, 'BMW'] \n",
      "final state['BENTLI', 0, 'BENZ', 'BMW']\n",
      " ********************\n",
      "3 th :->  !=\n",
      "BENZ must go to place 3\n",
      "previous ['BENTLI', 'BENZ', 0, 'BMW']\n",
      "new state['BENTLI', 0, 'BENZ', 'BMW'] \n",
      "final state['BENTLI', 0, 'BENZ', 'BMW']\n",
      " ********************\n"
     ]
    },
    {
     "data": {
      "text/plain": [
       "(4,\n",
       " [['BENZ', 0, 'BENTLI', 'BMW'],\n",
       "  [0, 'BENZ', 'BENTLI', 'BMW'],\n",
       "  ['BENTLI', 'BENZ', 0, 'BMW'],\n",
       "  ['BENTLI', 0, 'BENZ', 'BMW']])"
      ]
     },
     "execution_count": 105,
     "metadata": {},
     "output_type": "execute_result"
    }
   ],
   "source": [
    "init = ['BENZ','BMW','BENTLI',0]\n",
    "final = ['BENTLI',0,'BENZ','BMW']\n",
    "\n",
    "garage(init,final)"
   ]
  }
 ],
 "metadata": {
  "kernelspec": {
   "display_name": "Python 3.10.6 64-bit",
   "language": "python",
   "name": "python3"
  },
  "language_info": {
   "codemirror_mode": {
    "name": "ipython",
    "version": 3
   },
   "file_extension": ".py",
   "mimetype": "text/x-python",
   "name": "python",
   "nbconvert_exporter": "python",
   "pygments_lexer": "ipython3",
   "version": "3.10.6"
  },
  "orig_nbformat": 4,
  "vscode": {
   "interpreter": {
    "hash": "4000d5fabbf16d46b8685b20ddb4f1205c9618754029a947dbb2cc2ce311cc0f"
   }
  }
 },
 "nbformat": 4,
 "nbformat_minor": 2
}
