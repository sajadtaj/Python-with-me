{
 "cells": [
  {
   "cell_type": "markdown",
   "metadata": {},
   "source": [
    "## Bubble Sort\n",
    "\n",
    "+ Worst-case performance: O(N^2)\n",
    "+ If you call bubble_sort(arr,True), you can see the process of the sort\n",
    "Default is simulation = False"
   ]
  },
  {
   "cell_type": "code",
   "execution_count": 1,
   "metadata": {},
   "outputs": [],
   "source": [
    "def bubble_sort(arr):\n",
    "    def swap(i,j):\n",
    "        arr[i],arr[j] = arr[j], arr[i]\n",
    "    n = len(arr)\n",
    "    swapped = True\n",
    "    x = -1\n",
    "    while swapped:\n",
    "        swapped = False\n",
    "        x = x+1\n",
    "        for i in range(1,n-x):\n",
    "            if arr[i-1] > arr[i] :\n",
    "                swap(i-1,i)\n",
    "                swapped = True\n",
    "    return arr\n"
   ]
  },
  {
   "cell_type": "code",
   "execution_count": 2,
   "metadata": {},
   "outputs": [
    {
     "data": {
      "text/plain": [
       "[1, 2, 3, 5, 6, 7, 9]"
      ]
     },
     "execution_count": 2,
     "metadata": {},
     "output_type": "execute_result"
    }
   ],
   "source": [
    "arr =[1,5,3,9,6,7,2]\n",
    "bubble_sort(arr)"
   ]
  },
  {
   "cell_type": "code",
   "execution_count": 9,
   "metadata": {},
   "outputs": [
    {
     "data": {
      "text/plain": [
       "[1, 2, 3, 4, 5, 6, 7, 8, 9]"
      ]
     },
     "execution_count": 9,
     "metadata": {},
     "output_type": "execute_result"
    }
   ],
   "source": [
    "arr =[9,8,7,6,5,4,3,2,1]\n",
    "bubble_sort(arr)"
   ]
  },
  {
   "cell_type": "markdown",
   "metadata": {},
   "source": [
    "## Spilit The Code"
   ]
  },
  {
   "cell_type": "code",
   "execution_count": 4,
   "metadata": {},
   "outputs": [],
   "source": [
    "def bubble_sort(arr, simulation=True):\n",
    "    def swap(i,j):\n",
    "        arr[i],arr[j] = arr[j], arr[i]\n",
    "    n = len(arr)\n",
    "    swapped = True\n",
    "\n",
    "    iteration = 0\n",
    "    if simulation :\n",
    "        print('iteration',iteration,':',*arr)\n",
    "    y=0\n",
    "    x = -1\n",
    "    while swapped:\n",
    "        swapped = False\n",
    "        x = x+1\n",
    "        z=1\n",
    "        y+=1\n",
    "        print(f'Execute : while {y}-th','**'*5)\n",
    "        for i in range(1,n-x):\n",
    "            print(f'Execute : for {z}-th','#'*5)\n",
    "            if arr[i-1] > arr[i] :\n",
    "                swap(i-1,i)\n",
    "                swapped = True\n",
    "                if simulation:\n",
    "                    iteration = iteration + 1\n",
    "                    print('iteration',iteration,':',*arr)\n",
    "            z+=1\n",
    "    return arr"
   ]
  },
  {
   "cell_type": "code",
   "execution_count": 5,
   "metadata": {},
   "outputs": [
    {
     "name": "stdout",
     "output_type": "stream",
     "text": [
      "iteration 0 : 9 8 7 6 5 4\n",
      "Execute : while 1-th **********\n",
      "Execute : for 1-th #####\n",
      "iteration 1 : 8 9 7 6 5 4\n",
      "Execute : for 2-th #####\n",
      "iteration 2 : 8 7 9 6 5 4\n",
      "Execute : for 3-th #####\n",
      "iteration 3 : 8 7 6 9 5 4\n",
      "Execute : for 4-th #####\n",
      "iteration 4 : 8 7 6 5 9 4\n",
      "Execute : for 5-th #####\n",
      "iteration 5 : 8 7 6 5 4 9\n",
      "Execute : while 2-th **********\n",
      "Execute : for 1-th #####\n",
      "iteration 6 : 7 8 6 5 4 9\n",
      "Execute : for 2-th #####\n",
      "iteration 7 : 7 6 8 5 4 9\n",
      "Execute : for 3-th #####\n",
      "iteration 8 : 7 6 5 8 4 9\n",
      "Execute : for 4-th #####\n",
      "iteration 9 : 7 6 5 4 8 9\n",
      "Execute : while 3-th **********\n",
      "Execute : for 1-th #####\n",
      "iteration 10 : 6 7 5 4 8 9\n",
      "Execute : for 2-th #####\n",
      "iteration 11 : 6 5 7 4 8 9\n",
      "Execute : for 3-th #####\n",
      "iteration 12 : 6 5 4 7 8 9\n",
      "Execute : while 4-th **********\n",
      "Execute : for 1-th #####\n",
      "iteration 13 : 5 6 4 7 8 9\n",
      "Execute : for 2-th #####\n",
      "iteration 14 : 5 4 6 7 8 9\n",
      "Execute : while 5-th **********\n",
      "Execute : for 1-th #####\n",
      "iteration 15 : 4 5 6 7 8 9\n",
      "Execute : while 6-th **********\n"
     ]
    },
    {
     "data": {
      "text/plain": [
       "[4, 5, 6, 7, 8, 9]"
      ]
     },
     "execution_count": 5,
     "metadata": {},
     "output_type": "execute_result"
    }
   ],
   "source": [
    "arr =[9,8,7,6,5,4]\n",
    "bubble_sort(arr,True)"
   ]
  },
  {
   "cell_type": "code",
   "execution_count": 37,
   "metadata": {},
   "outputs": [
    {
     "name": "stdout",
     "output_type": "stream",
     "text": [
      "iteration 0 : 9 8 7 13 12 11\n",
      "Execute : while 1-th *****\n",
      "Execute : for 1-th #####\n",
      "iteration 1 : 8 9 7 13 12 11\n",
      "Execute : for 2-th #####\n",
      "iteration 2 : 8 7 9 13 12 11\n",
      "Execute : for 3-th #####\n",
      "Execute : for 4-th #####\n",
      "iteration 3 : 8 7 9 12 13 11\n",
      "Execute : for 5-th #####\n",
      "iteration 4 : 8 7 9 12 11 13\n",
      "Execute : while 2-th *****\n",
      "Execute : for 1-th #####\n",
      "iteration 5 : 7 8 9 12 11 13\n",
      "Execute : for 2-th #####\n",
      "Execute : for 3-th #####\n",
      "Execute : for 4-th #####\n",
      "iteration 6 : 7 8 9 11 12 13\n",
      "Execute : while 3-th *****\n",
      "Execute : for 1-th #####\n",
      "Execute : for 2-th #####\n",
      "Execute : for 3-th #####\n"
     ]
    },
    {
     "data": {
      "text/plain": [
       "[7, 8, 9, 11, 12, 13]"
      ]
     },
     "execution_count": 37,
     "metadata": {},
     "output_type": "execute_result"
    }
   ],
   "source": [
    "arr =[9,8,7,13,12,11]\n",
    "bubble_sort(arr,True)"
   ]
  },
  {
   "cell_type": "code",
   "execution_count": 23,
   "metadata": {},
   "outputs": [
    {
     "name": "stdout",
     "output_type": "stream",
     "text": [
      "iteration 0 : 7 8 1 2\n",
      "Execute For 1-th --------------------\n",
      "iteration 1 : 7 1 8 2\n",
      "iteration 2 : 7 1 2 8\n",
      "Execute For 2-th --------------------\n",
      "iteration 3 : 1 7 2 8\n",
      "iteration 4 : 1 2 7 8\n",
      "Execute For 3-th --------------------\n"
     ]
    },
    {
     "data": {
      "text/plain": [
       "[1, 2, 7, 8]"
      ]
     },
     "execution_count": 23,
     "metadata": {},
     "output_type": "execute_result"
    }
   ],
   "source": [
    "arr =[7,8,1,2]\n",
    "bubble_sort(arr)"
   ]
  },
  {
   "cell_type": "markdown",
   "metadata": {},
   "source": [
    "### Why : for in range (i , n-x) ?\n",
    "#### meaning of n-x range\n",
    "+ بخاطر اینکه در هر بار اجرای حلقه بزرگرتین عدد به اخر لیست میرود\n",
    "و دیگر نیاز نیست اخر لیست بررسی شود.\n",
    "\n",
    "+ در واقع در این الگورتیم ابتدا بزرگترین اعداد درته لیست قرار میگیرند\n",
    "+ و به تدریج اعداد کوچکتر به اول لیست سر میخورند\n",
    "+ هربار که حلقه کامل اجرا می شود یک عدد بزرگ در ته صف جا میگرد\n",
    "+ هر بار به میزان ایکس از طول بررسی لیست کم می شود"
   ]
  },
  {
   "cell_type": "code",
   "execution_count": null,
   "metadata": {},
   "outputs": [],
   "source": []
  }
 ],
 "metadata": {
  "kernelspec": {
   "display_name": "Python 3.10.6 64-bit",
   "language": "python",
   "name": "python3"
  },
  "language_info": {
   "codemirror_mode": {
    "name": "ipython",
    "version": 3
   },
   "file_extension": ".py",
   "mimetype": "text/x-python",
   "name": "python",
   "nbconvert_exporter": "python",
   "pygments_lexer": "ipython3",
   "version": "3.10.4"
  },
  "orig_nbformat": 4,
  "vscode": {
   "interpreter": {
    "hash": "4000d5fabbf16d46b8685b20ddb4f1205c9618754029a947dbb2cc2ce311cc0f"
   }
  }
 },
 "nbformat": 4,
 "nbformat_minor": 2
}
