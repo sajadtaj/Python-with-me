{
 "cells": [
  {
   "cell_type": "markdown",
   "metadata": {},
   "source": [
    "## inheritance\n",
    "به ما اجازه میدهد یک کلاس به اجزای کلاس دیگر دسترسی داشته باشد"
   ]
  },
  {
   "cell_type": "markdown",
   "metadata": {},
   "source": [
    "### Parent | Super class --> car\n",
    "### Child | subclass    --> motor & bycicle"
   ]
  },
  {
   "cell_type": "code",
   "execution_count": 1,
   "metadata": {},
   "outputs": [],
   "source": [
    "class car:\n",
    "    wheel = 4\n",
    "    def __init__(self,name) -> None:\n",
    "        self.name =name\n",
    "\n",
    "    def show(self):\n",
    "        print(f'i have a {self.name}')\n"
   ]
  },
  {
   "cell_type": "code",
   "execution_count": 2,
   "metadata": {},
   "outputs": [],
   "source": [
    "c = car('bentli')"
   ]
  },
  {
   "cell_type": "code",
   "execution_count": 3,
   "metadata": {},
   "outputs": [
    {
     "name": "stdout",
     "output_type": "stream",
     "text": [
      "i have a bentli\n"
     ]
    }
   ],
   "source": [
    "c.show()"
   ]
  },
  {
   "cell_type": "markdown",
   "metadata": {},
   "source": [
    " کلاس موتور را تعریف نموده ایم که کدهای آن مشابه کلاس کار است با این تقاوت که \n",
    " بجای چهار چرخ فقط دو چرخ دارد.\n",
    " لذا بجای اینکه کدهای کلاس گار را درون آن کپی کنیم و میگوییک از کلاس کار ارث بری کند."
   ]
  },
  {
   "cell_type": "code",
   "execution_count": 4,
   "metadata": {},
   "outputs": [],
   "source": [
    "class motor(car):\n",
    "    wheel = 2"
   ]
  },
  {
   "cell_type": "code",
   "execution_count": 5,
   "metadata": {},
   "outputs": [],
   "source": [
    "d = motor('bugati')"
   ]
  },
  {
   "cell_type": "code",
   "execution_count": 6,
   "metadata": {},
   "outputs": [
    {
     "name": "stdout",
     "output_type": "stream",
     "text": [
      "i have a bugati\n"
     ]
    }
   ],
   "source": [
    "d.show()"
   ]
  },
  {
   "cell_type": "code",
   "execution_count": 7,
   "metadata": {},
   "outputs": [
    {
     "name": "stdout",
     "output_type": "stream",
     "text": [
      "2\n"
     ]
    }
   ],
   "source": [
    "print(d.wheel)"
   ]
  },
  {
   "cell_type": "markdown",
   "metadata": {},
   "source": [
    "## MRO "
   ]
  },
  {
   "cell_type": "code",
   "execution_count": 8,
   "metadata": {},
   "outputs": [
    {
     "name": "stdout",
     "output_type": "stream",
     "text": [
      "Help on motor in module __main__ object:\n",
      "\n",
      "class motor(car)\n",
      " |  motor(name) -> None\n",
      " |  \n",
      " |  Method resolution order:\n",
      " |      motor\n",
      " |      car\n",
      " |      builtins.object\n",
      " |  \n",
      " |  Data and other attributes defined here:\n",
      " |  \n",
      " |  wheel = 2\n",
      " |  \n",
      " |  ----------------------------------------------------------------------\n",
      " |  Methods inherited from car:\n",
      " |  \n",
      " |  __init__(self, name) -> None\n",
      " |      Initialize self.  See help(type(self)) for accurate signature.\n",
      " |  \n",
      " |  show(self)\n",
      " |  \n",
      " |  ----------------------------------------------------------------------\n",
      " |  Data descriptors inherited from car:\n",
      " |  \n",
      " |  __dict__\n",
      " |      dictionary for instance variables (if defined)\n",
      " |  \n",
      " |  __weakref__\n",
      " |      list of weak references to the object (if defined)\n",
      "\n"
     ]
    }
   ],
   "source": [
    "# MRO Method resolution order\n",
    "\"\"\"\n",
    "فرایند ارث بری کلاس را میتوان به کمک آن رصد نمود\n",
    "و فهمید هر کلاس چه اجزای دارد و از کجا ارث بری میکند\n",
    "\"\"\"\n",
    "help(d)"
   ]
  },
  {
   "cell_type": "code",
   "execution_count": 10,
   "metadata": {},
   "outputs": [],
   "source": [
    "class bycicle(motor):\n",
    "\n",
    "    def show(self):\n",
    "        super().show()\n",
    "        print(f' i like ride {self.name} bicycle every morning')"
   ]
  },
  {
   "cell_type": "code",
   "execution_count": 11,
   "metadata": {},
   "outputs": [],
   "source": [
    "b=bycicle('olympia')"
   ]
  },
  {
   "cell_type": "code",
   "execution_count": 12,
   "metadata": {},
   "outputs": [
    {
     "data": {
      "text/plain": [
       "'olympia'"
      ]
     },
     "execution_count": 12,
     "metadata": {},
     "output_type": "execute_result"
    }
   ],
   "source": [
    "b.name"
   ]
  },
  {
   "cell_type": "code",
   "execution_count": 13,
   "metadata": {},
   "outputs": [
    {
     "name": "stdout",
     "output_type": "stream",
     "text": [
      "i have a olympia\n",
      " i like ride olympia bicycle every morning\n"
     ]
    }
   ],
   "source": [
    "b.show()"
   ]
  },
  {
   "cell_type": "code",
   "execution_count": 16,
   "metadata": {},
   "outputs": [
    {
     "name": "stdout",
     "output_type": "stream",
     "text": [
      "Help on bycicle in module __main__ object:\n",
      "\n",
      "class bycicle(motor)\n",
      " |  bycicle(name) -> None\n",
      " |  \n",
      " |  Method resolution order:\n",
      " |      bycicle\n",
      " |      motor\n",
      " |      car\n",
      " |      builtins.object\n",
      " |  \n",
      " |  Methods defined here:\n",
      " |  \n",
      " |  show(self)\n",
      " |  \n",
      " |  ----------------------------------------------------------------------\n",
      " |  Data and other attributes inherited from motor:\n",
      " |  \n",
      " |  wheel = 2\n",
      " |  \n",
      " |  ----------------------------------------------------------------------\n",
      " |  Methods inherited from car:\n",
      " |  \n",
      " |  __init__(self, name) -> None\n",
      " |      Initialize self.  See help(type(self)) for accurate signature.\n",
      " |  \n",
      " |  ----------------------------------------------------------------------\n",
      " |  Data descriptors inherited from car:\n",
      " |  \n",
      " |  __dict__\n",
      " |      dictionary for instance variables (if defined)\n",
      " |  \n",
      " |  __weakref__\n",
      " |      list of weak references to the object (if defined)\n",
      "\n"
     ]
    }
   ],
   "source": [
    "help(b)"
   ]
  },
  {
   "cell_type": "markdown",
   "metadata": {},
   "source": [
    "## Super\n",
    "دوتا تابع شو می سازیم یکی درون کلاس کار و یکی درون کلاس باسیکل\n",
    "میخواهیم به هردو درون کلاس بایسکل دسترسی داشته باشیم\n",
    "میخواهیم هم تابع شو در کلاس بلیسیکل را نشان دهد و هم تابع شو در کار"
   ]
  },
  {
   "cell_type": "code",
   "execution_count": 14,
   "metadata": {},
   "outputs": [],
   "source": [
    "# \n",
    "class bycicle(motor):\n",
    "\n",
    "    def show(self):\n",
    "        super().show()\n",
    "        print(f' i like ride {self.name} bicycle every morning')"
   ]
  },
  {
   "cell_type": "code",
   "execution_count": 15,
   "metadata": {},
   "outputs": [],
   "source": [
    "n=bycicle('vertigo')"
   ]
  },
  {
   "cell_type": "code",
   "execution_count": 16,
   "metadata": {},
   "outputs": [
    {
     "name": "stdout",
     "output_type": "stream",
     "text": [
      "i have a vertigo\n",
      " i like ride vertigo bicycle every morning\n"
     ]
    }
   ],
   "source": [
    "n.show()"
   ]
  },
  {
   "cell_type": "markdown",
   "metadata": {},
   "source": [
    "#### میخواهم داشتن کلاه کاسکت را نیز به پارامتر های ورودی بیفزایم\n",
    "اما بغیر از کلاه کاسکت همه متغیر های دیگرمان از کلاس کار میآید\n",
    "حالا آیا باید برای تعریف کلاه کاسکت همه متغیر های دیگر را دوبار تعریف کنیم؟\n",
    "خیر "
   ]
  },
  {
   "cell_type": "code",
   "execution_count": 27,
   "metadata": {},
   "outputs": [],
   "source": [
    "class bycicle(motor):\n",
    "\n",
    "    def __init__(self, name, helmet) -> None:\n",
    "        super().__init__(name)\n",
    "        \"\"\"\n",
    "        دیگر نیاز نیست برای افزودن کلاه کاسکت به پارامتر های ورودی \n",
    "        بیایم و دوباره کل تابع اینیت را گپی کنیم\n",
    "        باز از سوپر استفاده میکنیم تا موارد تکرار را از اینیت کلاس پدر بخواند \n",
    "        و کلاه کاسکت را نیز در پایان اضاه میکنیم.\n",
    "        \"\"\"\n",
    "        self.helmet=helmet\n",
    "\n",
    "    def show(self):\n",
    "        super().show()\n",
    "        print(f' i like ride {self.name} bycicle every morning')\n",
    "        if (self.helmet):\n",
    "            print('well don for use helmet')\n",
    "        else:\n",
    "            print('bad boy')"
   ]
  },
  {
   "cell_type": "code",
   "execution_count": 28,
   "metadata": {},
   "outputs": [],
   "source": [
    "f= bycicle('zeus', True)"
   ]
  },
  {
   "cell_type": "code",
   "execution_count": 29,
   "metadata": {},
   "outputs": [
    {
     "name": "stdout",
     "output_type": "stream",
     "text": [
      "i have a zeus\n",
      " i like ride zeus bycicle every morning\n",
      "well don for use helmet\n"
     ]
    }
   ],
   "source": [
    "f.show()"
   ]
  },
  {
   "cell_type": "code",
   "execution_count": 30,
   "metadata": {},
   "outputs": [],
   "source": [
    "h=bycicle('mortan' ,False)"
   ]
  },
  {
   "cell_type": "code",
   "execution_count": 31,
   "metadata": {},
   "outputs": [
    {
     "name": "stdout",
     "output_type": "stream",
     "text": [
      "i have a mortan\n",
      " i like ride mortan bycicle every morning\n",
      "bad boy\n"
     ]
    }
   ],
   "source": [
    "h.show()"
   ]
  },
  {
   "cell_type": "markdown",
   "metadata": {},
   "source": [
    "## Practice "
   ]
  },
  {
   "cell_type": "code",
   "execution_count": 30,
   "metadata": {},
   "outputs": [],
   "source": [
    "class father():\n",
    "    natinality = 'iran'\n",
    "    def __init__(self,name,family):\n",
    "        self.name =name\n",
    "        self.family= family\n",
    "    def show(self):\n",
    "        print(f'my name is {self.name} and may family is {self.family} . i live in {father.natinality}')\n",
    "\n",
    "\n",
    "class child(father):\n",
    "    def __init__(self,name,family,school):\n",
    "        super().__init__(name,family,)\n",
    "        self.school = school\n",
    "\n",
    "    def show(self):\n",
    "        super().show()\n",
    "        print(f' i go evety morning to {self.school}')\n",
    "\n",
    "    \n"
   ]
  },
  {
   "cell_type": "code",
   "execution_count": 31,
   "metadata": {},
   "outputs": [],
   "source": [
    "A= father('ahmad','vatandoost')"
   ]
  },
  {
   "cell_type": "code",
   "execution_count": 32,
   "metadata": {},
   "outputs": [
    {
     "name": "stdout",
     "output_type": "stream",
     "text": [
      "my name is ahmad and may family is vatandoost . i live in iran\n"
     ]
    }
   ],
   "source": [
    "A.show()"
   ]
  },
  {
   "cell_type": "code",
   "execution_count": 34,
   "metadata": {},
   "outputs": [],
   "source": [
    "B=child('ali','shadman','adab')"
   ]
  },
  {
   "cell_type": "code",
   "execution_count": 36,
   "metadata": {},
   "outputs": [
    {
     "name": "stdout",
     "output_type": "stream",
     "text": [
      "my name is ali and may family is shadman . i live in iran\n",
      " i go evety morning to adab\n"
     ]
    }
   ],
   "source": [
    "B.show()"
   ]
  },
  {
   "cell_type": "code",
   "execution_count": 37,
   "metadata": {},
   "outputs": [
    {
     "data": {
      "text/plain": [
       "'iran'"
      ]
     },
     "execution_count": 37,
     "metadata": {},
     "output_type": "execute_result"
    }
   ],
   "source": [
    "B.natinality"
   ]
  },
  {
   "cell_type": "code",
   "execution_count": 38,
   "metadata": {},
   "outputs": [
    {
     "name": "stdout",
     "output_type": "stream",
     "text": [
      "Help on child in module __main__ object:\n",
      "\n",
      "class child(father)\n",
      " |  child(name, family, school)\n",
      " |  \n",
      " |  Method resolution order:\n",
      " |      child\n",
      " |      father\n",
      " |      builtins.object\n",
      " |  \n",
      " |  Methods defined here:\n",
      " |  \n",
      " |  __init__(self, name, family, school)\n",
      " |      Initialize self.  See help(type(self)) for accurate signature.\n",
      " |  \n",
      " |  show(self)\n",
      " |  \n",
      " |  ----------------------------------------------------------------------\n",
      " |  Data descriptors inherited from father:\n",
      " |  \n",
      " |  __dict__\n",
      " |      dictionary for instance variables (if defined)\n",
      " |  \n",
      " |  __weakref__\n",
      " |      list of weak references to the object (if defined)\n",
      " |  \n",
      " |  ----------------------------------------------------------------------\n",
      " |  Data and other attributes inherited from father:\n",
      " |  \n",
      " |  natinality = 'iran'\n",
      "\n"
     ]
    }
   ],
   "source": [
    "help(B)"
   ]
  },
  {
   "cell_type": "code",
   "execution_count": null,
   "metadata": {},
   "outputs": [],
   "source": []
  }
 ],
 "metadata": {
  "kernelspec": {
   "display_name": "Python 3.10.6 64-bit",
   "language": "python",
   "name": "python3"
  },
  "language_info": {
   "codemirror_mode": {
    "name": "ipython",
    "version": 3
   },
   "file_extension": ".py",
   "mimetype": "text/x-python",
   "name": "python",
   "nbconvert_exporter": "python",
   "pygments_lexer": "ipython3",
   "version": "3.10.4"
  },
  "orig_nbformat": 4,
  "vscode": {
   "interpreter": {
    "hash": "4000d5fabbf16d46b8685b20ddb4f1205c9618754029a947dbb2cc2ce311cc0f"
   }
  }
 },
 "nbformat": 4,
 "nbformat_minor": 2
}
