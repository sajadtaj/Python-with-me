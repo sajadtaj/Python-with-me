{
 "cells": [
  {
   "cell_type": "markdown",
   "metadata": {},
   "source": [
    "#### Access Point --> public, protected, private\n",
    "رای اینکه بتونید دسترسی کلاس های فرزند رو به متدها و ویژگی های کلاس پدر محدود کنید میتونید از اکسس ئوینت ها استفاده کنید"
   ]
  },
  {
   "cell_type": "markdown",
   "metadata": {},
   "source": [
    "## نکته مهم\n",
    "اکسس پوینت چیزی را برای ما اجباری نمیکند به معنی که نتوانیم تاز متغیز دیگر جا ها استفاده کنیم (بجز پرایوت)بلکه منظور اینست که دیگر برنامه نویسان و توسعه دهندگان د هنگام خواندن کد شما بفمهند که متغیری که با ان سرکار دارند یک متغیر حیاتی و مهم می باشد."
   ]
  },
  {
   "cell_type": "code",
   "execution_count": 1,
   "metadata": {},
   "outputs": [],
   "source": [
    "class Person:\n",
    "    name = 'amir'       #public\n",
    "    _age = 32           #Protected\n",
    "    __height = 186      #Private"
   ]
  },
  {
   "cell_type": "markdown",
   "metadata": {},
   "source": [
    "####\n",
    "+ نماد ها\n",
    "    + public : vaiable\n",
    "    + protected: _vaiable\n",
    "    + private : __vaiable"
   ]
  },
  {
   "cell_type": "markdown",
   "metadata": {},
   "source": [
    "## Public\n",
    "هیچ قانونی خاصی ندارد و همه جا به آند دسترسی درایم"
   ]
  },
  {
   "cell_type": "code",
   "execution_count": 2,
   "metadata": {},
   "outputs": [
    {
     "name": "stdout",
     "output_type": "stream",
     "text": [
      "amir\n"
     ]
    }
   ],
   "source": [
    "print(Person.name)"
   ]
  },
  {
   "cell_type": "markdown",
   "metadata": {},
   "source": [
    "## Private\n",
    "داخل خود کلاس و کلاس های که از آن ارث بری کردند میتوان به آن دسترسی داشت.\n",
    "اما بیرون از کلاس ها نمیتوان به آن دسترسی داشت"
   ]
  },
  {
   "cell_type": "code",
   "execution_count": 3,
   "metadata": {},
   "outputs": [],
   "source": [
    "class Male(Person):\n",
    "    def show1(self):\n",
    "        print(f'please print protected age: {self._age}')\n",
    "    def show2(self): # این کد چون متغیر پرایوت را میخواهد نشان دهد ارور میدهد\n",
    "        print(f'please print PRivate height: {self.__height}')"
   ]
  },
  {
   "cell_type": "code",
   "execution_count": 4,
   "metadata": {},
   "outputs": [],
   "source": [
    "a = Male()"
   ]
  },
  {
   "cell_type": "code",
   "execution_count": 5,
   "metadata": {},
   "outputs": [
    {
     "name": "stdout",
     "output_type": "stream",
     "text": [
      "please print protected age: 32\n"
     ]
    }
   ],
   "source": [
    "a.show1()"
   ]
  },
  {
   "cell_type": "markdown",
   "metadata": {},
   "source": [
    "### تکته\n",
    "اگر مستقیما \n",
    "_age\n",
    "بزنیم مقدار را برای ما برمیگرداند اما نکته اینست که سایر کسانی که از کد شما استفاده میکنند بفمند \n",
    "که این متغیر پروتکتد می باشد"
   ]
  },
  {
   "cell_type": "markdown",
   "metadata": {},
   "source": [
    "## Private\n",
    "فقط کلاس سازنده به آن دسترسی دارد \n",
    "و کلاس های ارث بر به آن دسترسی ندارند\n",
    "و اگر آنرا فراخوانی کنند به ارور میخورند"
   ]
  },
  {
   "cell_type": "code",
   "execution_count": 6,
   "metadata": {},
   "outputs": [],
   "source": [
    "b = Male()"
   ]
  },
  {
   "cell_type": "code",
   "execution_count": 7,
   "metadata": {},
   "outputs": [
    {
     "ename": "AttributeError",
     "evalue": "'Male' object has no attribute '_Male__height'",
     "output_type": "error",
     "traceback": [
      "\u001b[0;31m---------------------------------------------------------------------------\u001b[0m",
      "\u001b[0;31mAttributeError\u001b[0m                            Traceback (most recent call last)",
      "\u001b[1;32m/media/ubunto/TORBU-SD/Prefessional  Python/2-Class/7-access Point.ipynb Cell 14'\u001b[0m in \u001b[0;36m<cell line: 1>\u001b[0;34m()\u001b[0m\n\u001b[0;32m----> <a href='vscode-notebook-cell:/media/ubunto/TORBU-SD/Prefessional%20%20Python/2-Class/7-access%20Point.ipynb#ch0000013?line=0'>1</a>\u001b[0m b\u001b[39m.\u001b[39;49mshow2()\n",
      "\u001b[1;32m/media/ubunto/TORBU-SD/Prefessional  Python/2-Class/7-access Point.ipynb Cell 8'\u001b[0m in \u001b[0;36mMale.show2\u001b[0;34m(self)\u001b[0m\n\u001b[1;32m      <a href='vscode-notebook-cell:/media/ubunto/TORBU-SD/Prefessional%20%20Python/2-Class/7-access%20Point.ipynb#ch0000007?line=3'>4</a>\u001b[0m \u001b[39mdef\u001b[39;00m \u001b[39mshow2\u001b[39m(\u001b[39mself\u001b[39m): \u001b[39m# این کد چون متغیر پرایوت را میخواهد نشان دهد ارور میدهد\u001b[39;00m\n\u001b[0;32m----> <a href='vscode-notebook-cell:/media/ubunto/TORBU-SD/Prefessional%20%20Python/2-Class/7-access%20Point.ipynb#ch0000007?line=4'>5</a>\u001b[0m     \u001b[39mprint\u001b[39m(\u001b[39mf\u001b[39m\u001b[39m'\u001b[39m\u001b[39mplease print PRivate height: \u001b[39m\u001b[39m{\u001b[39;00m\u001b[39mself\u001b[39m\u001b[39m.\u001b[39m__height\u001b[39m}\u001b[39;00m\u001b[39m'\u001b[39m)\n",
      "\u001b[0;31mAttributeError\u001b[0m: 'Male' object has no attribute '_Male__height'"
     ]
    }
   ],
   "source": [
    "b.show2()\n",
    "# باید به ارور بخوریم "
   ]
  },
  {
   "cell_type": "code",
   "execution_count": 8,
   "metadata": {},
   "outputs": [
    {
     "ename": "AttributeError",
     "evalue": "type object 'Person' has no attribute '__height'",
     "output_type": "error",
     "traceback": [
      "\u001b[0;31m---------------------------------------------------------------------------\u001b[0m",
      "\u001b[0;31mAttributeError\u001b[0m                            Traceback (most recent call last)",
      "\u001b[1;32m/media/ubunto/TORBU-SD/Prefessional  Python/2-Class/7-access Point.ipynb Cell 15'\u001b[0m in \u001b[0;36m<cell line: 1>\u001b[0;34m()\u001b[0m\n\u001b[0;32m----> <a href='vscode-notebook-cell:/media/ubunto/TORBU-SD/Prefessional%20%20Python/2-Class/7-access%20Point.ipynb#ch0000014?line=0'>1</a>\u001b[0m \u001b[39mprint\u001b[39m(Person\u001b[39m.\u001b[39;49m__height)\n",
      "\u001b[0;31mAttributeError\u001b[0m: type object 'Person' has no attribute '__height'"
     ]
    }
   ],
   "source": [
    "print(Person.__height)\n",
    "# باید به ارور بخوریم "
   ]
  },
  {
   "cell_type": "markdown",
   "metadata": {},
   "source": [
    "## اگر حتما بخواهیم به آن متغییر  پرایوت دسترسی داشته باشیم\n"
   ]
  },
  {
   "cell_type": "code",
   "execution_count": 9,
   "metadata": {},
   "outputs": [
    {
     "name": "stdout",
     "output_type": "stream",
     "text": [
      "186\n"
     ]
    }
   ],
   "source": [
    "print(Person._Person__height) # name mangling"
   ]
  },
  {
   "cell_type": "code",
   "execution_count": 10,
   "metadata": {},
   "outputs": [
    {
     "name": "stdout",
     "output_type": "stream",
     "text": [
      "186\n"
     ]
    }
   ],
   "source": [
    "print(a._Person__height)"
   ]
  },
  {
   "cell_type": "markdown",
   "metadata": {},
   "source": [
    "## به روش بالا می گویند:\n",
    "Name mangling"
   ]
  },
  {
   "cell_type": "markdown",
   "metadata": {},
   "source": [
    "## کاربرد در مورد متدها\n",
    "قوانین بالا در مورد متدها نیز صدق میکند"
   ]
  },
  {
   "cell_type": "code",
   "execution_count": 11,
   "metadata": {},
   "outputs": [],
   "source": [
    "class root:\n",
    "    def __show():\n",
    "        print('hi this function is private')\n"
   ]
  },
  {
   "cell_type": "code",
   "execution_count": 12,
   "metadata": {},
   "outputs": [
    {
     "ename": "AttributeError",
     "evalue": "type object 'root' has no attribute '__show'",
     "output_type": "error",
     "traceback": [
      "\u001b[0;31m---------------------------------------------------------------------------\u001b[0m",
      "\u001b[0;31mAttributeError\u001b[0m                            Traceback (most recent call last)",
      "\u001b[1;32m/media/ubunto/TORBU-SD/Prefessional  Python/2-Class/7-access Point.ipynb Cell 22'\u001b[0m in \u001b[0;36m<cell line: 1>\u001b[0;34m()\u001b[0m\n\u001b[0;32m----> <a href='vscode-notebook-cell:/media/ubunto/TORBU-SD/Prefessional%20%20Python/2-Class/7-access%20Point.ipynb#ch0000021?line=0'>1</a>\u001b[0m \u001b[39mprint\u001b[39m(root\u001b[39m.\u001b[39;49m__show())\n",
      "\u001b[0;31mAttributeError\u001b[0m: type object 'root' has no attribute '__show'"
     ]
    }
   ],
   "source": [
    "print(root.__show())"
   ]
  },
  {
   "cell_type": "code",
   "execution_count": 13,
   "metadata": {},
   "outputs": [
    {
     "name": "stdout",
     "output_type": "stream",
     "text": [
      "hi this function is private\n",
      "None\n"
     ]
    }
   ],
   "source": [
    "print(root._root__show())  # name mangling"
   ]
  },
  {
   "cell_type": "code",
   "execution_count": 14,
   "metadata": {},
   "outputs": [
    {
     "name": "stdout",
     "output_type": "stream",
     "text": [
      "<__main__.Male object at 0x7f6c10489c90>\n"
     ]
    }
   ],
   "source": [
    "print(b)"
   ]
  },
  {
   "cell_type": "code",
   "execution_count": 15,
   "metadata": {},
   "outputs": [
    {
     "name": "stdout",
     "output_type": "stream",
     "text": [
      "Help on Male in module __main__ object:\n",
      "\n",
      "class Male(Person)\n",
      " |  Method resolution order:\n",
      " |      Male\n",
      " |      Person\n",
      " |      builtins.object\n",
      " |  \n",
      " |  Methods defined here:\n",
      " |  \n",
      " |  show1(self)\n",
      " |  \n",
      " |  show2(self)\n",
      " |  \n",
      " |  ----------------------------------------------------------------------\n",
      " |  Data descriptors inherited from Person:\n",
      " |  \n",
      " |  __dict__\n",
      " |      dictionary for instance variables (if defined)\n",
      " |  \n",
      " |  __weakref__\n",
      " |      list of weak references to the object (if defined)\n",
      " |  \n",
      " |  ----------------------------------------------------------------------\n",
      " |  Data and other attributes inherited from Person:\n",
      " |  \n",
      " |  name = 'amir'\n",
      "\n"
     ]
    }
   ],
   "source": [
    "help(b)"
   ]
  },
  {
   "cell_type": "code",
   "execution_count": null,
   "metadata": {},
   "outputs": [],
   "source": []
  }
 ],
 "metadata": {
  "kernelspec": {
   "display_name": "Python 3.10.6 64-bit",
   "language": "python",
   "name": "python3"
  },
  "language_info": {
   "codemirror_mode": {
    "name": "ipython",
    "version": 3
   },
   "file_extension": ".py",
   "mimetype": "text/x-python",
   "name": "python",
   "nbconvert_exporter": "python",
   "pygments_lexer": "ipython3",
   "version": "3.10.4"
  },
  "orig_nbformat": 4,
  "vscode": {
   "interpreter": {
    "hash": "4000d5fabbf16d46b8685b20ddb4f1205c9618754029a947dbb2cc2ce311cc0f"
   }
  }
 },
 "nbformat": 4,
 "nbformat_minor": 2
}
