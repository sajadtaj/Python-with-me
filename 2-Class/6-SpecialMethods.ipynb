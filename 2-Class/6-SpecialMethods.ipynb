{
 "cells": [
  {
   "cell_type": "markdown",
   "metadata": {},
   "source": [
    "### Special Methods\n",
    "متدهایس که با __ شروع و با __ خاتمی می بابند مثل مثل اینیت\n",
    "این متدهای رزرو ئایتوه هستند و کار های خاص انجام میدهند.\n",
    "این متدها با نام زیر نیز شناخته می شوند\n",
    "+ Dundemr"
   ]
  },
  {
   "cell_type": "code",
   "execution_count": 1,
   "metadata": {},
   "outputs": [],
   "source": [
    "class car:\n",
    "    def __init__(self,name,price) -> None:\n",
    "        self.name =name\n",
    "        self.price =price\n",
    "    def show(self):\n",
    "        print(f' i have a{self.name}')"
   ]
  },
  {
   "cell_type": "markdown",
   "metadata": {},
   "source": [
    "__init__ : dunder init : initialaizer"
   ]
  },
  {
   "cell_type": "code",
   "execution_count": 2,
   "metadata": {},
   "outputs": [],
   "source": [
    "a = car('bugati', 1800)\n",
    "b = car('bentli',2500)"
   ]
  },
  {
   "cell_type": "markdown",
   "metadata": {},
   "source": [
    "## مشکل"
   ]
  },
  {
   "cell_type": "code",
   "execution_count": 3,
   "metadata": {},
   "outputs": [
    {
     "name": "stdout",
     "output_type": "stream",
     "text": [
      "<__main__.car object at 0x7f4182f95c90>\n"
     ]
    }
   ],
   "source": [
    "# با پرینت  ابجکت یکسری اطلاعات بدرد نخور در مورد نام کلاس و محل ذخیر ه میده\n",
    "print(a)"
   ]
  },
  {
   "cell_type": "markdown",
   "metadata": {},
   "source": [
    "## Method _ _ str _ _ "
   ]
  },
  {
   "cell_type": "markdown",
   "metadata": {},
   "source": [
    "زمانی که یک ابجکت را مستقیما نمایش میدهیم\n",
    "اطلاعات درون این متد را نمایش می دهد"
   ]
  },
  {
   "cell_type": "code",
   "execution_count": 7,
   "metadata": {},
   "outputs": [],
   "source": [
    "class car1(car):\n",
    "    def show(self):\n",
    "        super().show()\n",
    "\n",
    "    def __str__(self) -> str:\n",
    "        return f'it is a object about car in this abject name is {self.name} and price {self.price}'"
   ]
  },
  {
   "cell_type": "code",
   "execution_count": 8,
   "metadata": {},
   "outputs": [],
   "source": [
    "b = car1('benz', 18500)"
   ]
  },
  {
   "cell_type": "code",
   "execution_count": 11,
   "metadata": {},
   "outputs": [
    {
     "name": "stdout",
     "output_type": "stream",
     "text": [
      "it is a object about car in this abject name is benz and price 18500\n"
     ]
    }
   ],
   "source": [
    "print(b)"
   ]
  },
  {
   "cell_type": "markdown",
   "metadata": {},
   "source": [
    "## مشکل \n",
    "اگر بخواهیم دو کلاس را باهم جمع کنیم\n",
    "مثلا قیمت ها را و یا ادرس ها را و یا ...."
   ]
  },
  {
   "cell_type": "markdown",
   "metadata": {},
   "source": [
    "## _ _ add _ _"
   ]
  },
  {
   "cell_type": "code",
   "execution_count": 15,
   "metadata": {},
   "outputs": [],
   "source": [
    "class car2(car):\n",
    "    def show(self):\n",
    "        super().show()\n",
    "\n",
    "    def __add__(self,other):\n",
    "        return self.price + other.price\n",
    "\n"
   ]
  },
  {
   "cell_type": "code",
   "execution_count": 13,
   "metadata": {},
   "outputs": [],
   "source": [
    "a = car2('hyundai' , 1478)\n",
    "b = car2('tyota' , 1574)"
   ]
  },
  {
   "cell_type": "code",
   "execution_count": 14,
   "metadata": {},
   "outputs": [
    {
     "name": "stdout",
     "output_type": "stream",
     "text": [
      "3052\n"
     ]
    }
   ],
   "source": [
    "print(a+b)"
   ]
  },
  {
   "cell_type": "markdown",
   "metadata": {},
   "source": [
    "## _ _ len _ _\n",
    "تعداد عناصر ابجکت را م یشمارد"
   ]
  },
  {
   "cell_type": "code",
   "execution_count": 17,
   "metadata": {},
   "outputs": [],
   "source": [
    "class car3(car):\n",
    "    def show(self):\n",
    "        super().show()\n",
    "\n",
    "    def __len__(self):\n",
    "        return len(self.name)\n"
   ]
  },
  {
   "cell_type": "code",
   "execution_count": 18,
   "metadata": {},
   "outputs": [],
   "source": [
    "w = car3('pourshe', 5841)"
   ]
  },
  {
   "cell_type": "code",
   "execution_count": 19,
   "metadata": {},
   "outputs": [
    {
     "name": "stdout",
     "output_type": "stream",
     "text": [
      "7\n"
     ]
    }
   ],
   "source": [
    "print(len(w))"
   ]
  },
  {
   "cell_type": "code",
   "execution_count": null,
   "metadata": {},
   "outputs": [],
   "source": []
  }
 ],
 "metadata": {
  "kernelspec": {
   "display_name": "Python 3.10.6 64-bit",
   "language": "python",
   "name": "python3"
  },
  "language_info": {
   "codemirror_mode": {
    "name": "ipython",
    "version": 3
   },
   "file_extension": ".py",
   "mimetype": "text/x-python",
   "name": "python",
   "nbconvert_exporter": "python",
   "pygments_lexer": "ipython3",
   "version": "3.10.4"
  },
  "orig_nbformat": 4,
  "vscode": {
   "interpreter": {
    "hash": "4000d5fabbf16d46b8685b20ddb4f1205c9618754029a947dbb2cc2ce311cc0f"
   }
  }
 },
 "nbformat": 4,
 "nbformat_minor": 2
}
