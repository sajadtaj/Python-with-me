{
 "cells": [
  {
   "cell_type": "markdown",
   "metadata": {},
   "source": [
    "##### به فانکشن های درون کلاس ها متد می گوییم"
   ]
  },
  {
   "cell_type": "code",
   "execution_count": 2,
   "metadata": {},
   "outputs": [],
   "source": [
    "class car:\n",
    "    def show(self):\n",
    "        print('This is methods')\n",
    "        print(self)"
   ]
  },
  {
   "cell_type": "code",
   "execution_count": 3,
   "metadata": {},
   "outputs": [
    {
     "name": "stdout",
     "output_type": "stream",
     "text": [
      "This is methods\n",
      "<__main__.car object at 0x7f599948db10>\n"
     ]
    }
   ],
   "source": [
    "a=car()\n",
    "a.show()"
   ]
  },
  {
   "cell_type": "code",
   "execution_count": 4,
   "metadata": {},
   "outputs": [],
   "source": [
    "class first:\n",
    "    def __init__(self,n,p):  #built in  \n",
    "        \"\"\"\n",
    "        تدهای که متعلق به خود پایتون هستند\n",
    "        میتوانیم خیلی از ویژگی ها را همین جا برای ابجکت ها تعریف کنیم\n",
    "        \"\"\"\n",
    "        self.name = n\n",
    "        self.price = p\n",
    "        print(f'this methods every time run a price is {self.price} and name is {self.name}')"
   ]
  },
  {
   "cell_type": "code",
   "execution_count": 5,
   "metadata": {},
   "outputs": [
    {
     "name": "stdout",
     "output_type": "stream",
     "text": [
      "this methods every time run a price is 125 and name is benz\n"
     ]
    }
   ],
   "source": [
    "a=first('benz',125)"
   ]
  },
  {
   "cell_type": "code",
   "execution_count": 6,
   "metadata": {},
   "outputs": [
    {
     "data": {
      "text/plain": [
       "'benz'"
      ]
     },
     "execution_count": 6,
     "metadata": {},
     "output_type": "execute_result"
    }
   ],
   "source": [
    "a.name"
   ]
  },
  {
   "cell_type": "code",
   "execution_count": 7,
   "metadata": {},
   "outputs": [],
   "source": [
    "class quant:\n",
    "    b=23\n",
    "    v=43\n",
    "    def __init__(self):\n",
    "        print(\"hi\")\n",
    "    def show(self):\n",
    "        print(\"hi this is my class\")"
   ]
  },
  {
   "cell_type": "code",
   "execution_count": 8,
   "metadata": {},
   "outputs": [
    {
     "name": "stdout",
     "output_type": "stream",
     "text": [
      "hi\n"
     ]
    }
   ],
   "source": [
    "a=quant()\n"
   ]
  },
  {
   "cell_type": "code",
   "execution_count": 9,
   "metadata": {},
   "outputs": [
    {
     "name": "stdout",
     "output_type": "stream",
     "text": [
      "hi this is my class\n"
     ]
    }
   ],
   "source": [
    "a.show()\n"
   ]
  },
  {
   "cell_type": "code",
   "execution_count": 10,
   "metadata": {},
   "outputs": [
    {
     "ename": "TypeError",
     "evalue": "quant.show() missing 1 required positional argument: 'self'",
     "output_type": "error",
     "traceback": [
      "\u001b[0;31m---------------------------------------------------------------------------\u001b[0m",
      "\u001b[0;31mTypeError\u001b[0m                                 Traceback (most recent call last)",
      "\u001b[1;32m/media/ubunto/TORBU-SD/Prefessional  Python/2-Class/2-methods.ipynb Cell 10'\u001b[0m in \u001b[0;36m<cell line: 1>\u001b[0;34m()\u001b[0m\n\u001b[0;32m----> <a href='vscode-notebook-cell:/media/ubunto/TORBU-SD/Prefessional%20%20Python/2-Class/2-methods.ipynb#ch0000009?line=0'>1</a>\u001b[0m quant\u001b[39m.\u001b[39;49mshow()\n",
      "\u001b[0;31mTypeError\u001b[0m: quant.show() missing 1 required positional argument: 'self'"
     ]
    }
   ],
   "source": [
    "quant.show()"
   ]
  },
  {
   "cell_type": "code",
   "execution_count": null,
   "metadata": {},
   "outputs": [],
   "source": []
  }
 ],
 "metadata": {
  "kernelspec": {
   "display_name": "Python 3.10.6 64-bit",
   "language": "python",
   "name": "python3"
  },
  "language_info": {
   "codemirror_mode": {
    "name": "ipython",
    "version": 3
   },
   "file_extension": ".py",
   "mimetype": "text/x-python",
   "name": "python",
   "nbconvert_exporter": "python",
   "pygments_lexer": "ipython3",
   "version": "3.10.4"
  },
  "orig_nbformat": 4,
  "vscode": {
   "interpreter": {
    "hash": "4000d5fabbf16d46b8685b20ddb4f1205c9618754029a947dbb2cc2ce311cc0f"
   }
  }
 },
 "nbformat": 4,
 "nbformat_minor": 2
}
